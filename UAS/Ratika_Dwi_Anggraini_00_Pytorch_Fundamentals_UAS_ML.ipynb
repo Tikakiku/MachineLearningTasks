{
  "cells": [
    {
      "cell_type": "markdown",
      "metadata": {
        "id": "view-in-github",
        "colab_type": "text"
      },
      "source": [
        "<a href=\"https://colab.research.google.com/github/Tikakiku/MachineLearningTasks/blob/main/UAS/Ratika_Dwi_Anggraini_00_Pytorch_Fundamentals_UAS_ML.ipynb\" target=\"_parent\"><img src=\"https://colab.research.google.com/assets/colab-badge.svg\" alt=\"Open In Colab\"/></a>"
      ]
    },
    {
      "cell_type": "markdown",
      "source": [
        "####UAS Machine Learning\n",
        "####Technical Report on Github (https://github.com/Tikakiku/MachineLearningTasks)\n",
        "#####Nama : Ratika Dwi Anggraini\n",
        "#####NIM : 1103201250\n"
      ],
      "metadata": {
        "id": "rIN2RHOEH-Jz"
      }
    },
    {
      "cell_type": "markdown",
      "metadata": {
        "id": "jSNK7duj5SeU"
      },
      "source": [
        "# 00. PyTorch Fundamentals\n",
        "\n",
        "# Apa itu PyTorch?\n",
        "\n",
        "[PyTorch](https://pytorch.org/) adalah kerangka kerja *open-source* untuk *machine learning* dan *deep learning*.\n",
        "\n",
        "# Apa yang bisa dilakukan PyTorch?\n",
        "\n",
        "PyTorch memungkinkan pengguna untuk memanipulasi dan memproses data serta menulis algoritma *machine learning* menggunakan kode Python.\n",
        "\n",
        "# Siapa yang menggunakan PyTorch?\n",
        "\n",
        "Banyak perusahaan teknologi terbesar di dunia seperti [Meta (Facebook)](https://ai.facebook.com/blog/pytorch-builds-the-future-of-ai-and-machine-learning-at-facebook/), Tesla, dan Microsoft, serta perusahaan riset kecerdasan buatan seperti [OpenAI menggunakan PyTorch](https://openai.com/blog/openai-pytorch/) untuk mendukung penelitian dan menghadirkan *machine learning* pada produk mereka.\n",
        "\n",
        "![PyTorch digunakan di berbagai industri dan penelitian](https://raw.githubusercontent.com/mrdbourke/pytorch-deep-learning/main/images/00-pytorch-being-used-across-research-and-industry.png)\n",
        "\n",
        "Sebagai contoh, Andrej Karpathy (kepala AI di Tesla) telah memberikan beberapa presentasi ([PyTorch DevCon 2019](https://youtu.be/oBklltKXtDE), [Tesla AI Day 2021](https://youtu.be/j0z4FweCy4M?t=2904)) tentang bagaimana Tesla menggunakan PyTorch untuk mendukung model *computer vision* pada sistem penglihatan komputer mereka.\n",
        "\n",
        "PyTorch juga digunakan di industri lain seperti pertanian untuk [mendukung visi komputer pada traktor](https://medium.com/pytorch/ai-for-ag-production-machine-learning-for-agriculture-e8cfdb9849a1).\n",
        "\n",
        "# Mengapa menggunakan PyTorch?\n",
        "\n",
        "Hingga Februari 2022, PyTorch adalah [kerangka kerja *deep learning* yang paling banyak digunakan di Papers With Code](https://paperswithcode.com/trends), sebuah situs web untuk melacak makalah penelitian *machine learning* dan repositori kode yang terkait dengannya.\n",
        "\n",
        "PyTorch juga membantu menangani banyak hal seperti akselerasi GPU (membuat kode berjalan lebih cepat) di balik layar.\n",
        "\n",
        "Sehingga pengembang dapat fokus pada manipulasi data dan menulis algoritma, dan PyTorch akan memastikan agar berjalan dengan cepat.\n",
        "\n",
        "Dan jika perusahaan seperti Tesla dan Meta (Facebook) menggunakannya untuk membangun model yang mereka terapkan untuk menggerakkan ratusan aplikasi, mengemudikan ribuan mobil, dan menyampaikan konten kepada miliaran orang, jelas mampu di sisi pengembangan juga.\n",
        "\n",
        "# Pembahasan modul\n",
        "\n",
        "Secara khusus, dalam modul ini akan membahas:\n",
        "\n",
        "| **Topik** | **Isi** |\n",
        "| ----- | ----- |\n",
        "| **Pengenalan tentang tensor** | Tensor adalah blok bangunan dasar dari semua *machine learning* dan *deep learning*. |\n",
        "| **Membuat tensor** | Tensor dapat mewakili hampir semua jenis data (gambar, kata-kata, tabel angka). |\n",
        "| **Mendapatkan informasi dari tensor** | Jika Anda dapat memasukkan informasi ke dalam suatu tensor, Anda juga akan ingin mendapatkannya. |\n",
        "| **Memanipulasi tensor** | Algoritma *machine learning* (seperti jaringan saraf) melibatkan manipulasi tensor dengan berbagai cara seperti penambahan, perkalian, penggabungan. |\n",
        "| **Menangani bentuk tensor** | Salah satu masalah paling umum dalam *machine learning* adalah menangani ketidakcocokan bentuk (mencoba menggabungkan tensor dengan bentuk yang salah dengan tensor lain). |\n",
        "| **Indexing pada tensor** | Jika Anda telah mengindeks pada daftar Python atau array NumPy, ini sangat mirip dengan tensor, kecuali mereka dapat memiliki dimensi yang jauh lebih banyak. |\n",
        "| **Mencampur tensor PyTorch dan NumPy** | PyTorch bermain dengan tensor ([`torch.Tensor`]"
      ]
    },
    {
      "cell_type": "markdown",
      "metadata": {
        "id": "5v3iRCRUTGeu"
      },
      "source": [
        "## Importing PyTorch\n",
        "\n",
        "Kode `import torch` dan `torch.__version__` digunakan untuk mengimpor PyTorch dan memeriksa versi yang digunakan."
      ]
    },
    {
      "cell_type": "code",
      "execution_count": 1,
      "metadata": {
        "colab": {
          "base_uri": "https://localhost:8080/",
          "height": 36
        },
        "id": "1VxEOik46Y4i",
        "outputId": "ca26788c-7d15-48cf-c0ad-8ab20682a27a"
      },
      "outputs": [
        {
          "output_type": "execute_result",
          "data": {
            "text/plain": [
              "'2.1.0+cu121'"
            ],
            "application/vnd.google.colaboratory.intrinsic+json": {
              "type": "string"
            }
          },
          "metadata": {},
          "execution_count": 1
        }
      ],
      "source": [
        "import torch\n",
        "torch.__version__"
      ]
    },
    {
      "cell_type": "markdown",
      "metadata": {
        "id": "i-33BKR16iWc"
      },
      "source": [
        "## Introduction to tensors\n",
        "\n",
        "**Tensors** merupakan blok dasar fundamental dalam machine learning yang berfungsi untuk merepresentasikan data dalam bentuk numerik. Sebagai contoh, kita bisa merepresentasikan gambar sebagai tensor dengan bentuk `[3, 224, 224]`, yang berarti `[colour_channels, height, width]`. Artinya, gambar memiliki `3` saluran warna (merah, hijau, biru), tinggi `224` piksel, dan lebar `224` piksel.\n",
        "\n",
        "\n",
        "![example of going from an input image to a tensor representation of the image, image gets broken down into 3 colour channels as well as numbers to represent the height and width](https://raw.githubusercontent.com/mrdbourke/pytorch-deep-learning/main/images/00-tensor-shape-example-of-image.png)\n",
        "\n",
        "Dalam bahasa tensor (bahasa yang digunakan untuk mendeskripsikan tensor), tensor tersebut akan memiliki tiga dimensi, masing-masing untuk `colour_channels`, `height`, dan `width`.\n"
      ]
    },
    {
      "cell_type": "markdown",
      "metadata": {
        "id": "gFF0N2TU7S7Q"
      },
      "source": [
        "### Creating tensors\n",
        "\n",
        "1. **Scalar (Skalar):**\n",
        "   - Sebuah angka tunggal.\n",
        "   - Dalam tensor-speak, ini adalah tensor dimensi nol.\n",
        "   - Representasinya menggunakan `torch.tensor(7)`.\n",
        "\n",
        "2. **Vector (Vektor):**\n",
        "   - Tensor satu dimensi yang dapat berisi banyak angka.\n",
        "   - Misalnya, vektor `[3, 2]` bisa mewakili `[kamar_tidur, kamar_mandi]`.\n",
        "   - Representasinya menggunakan `torch.tensor([7, 7])`.\n",
        "   - Memiliki satu dimensi (diketahui dari jumlah tanda kurung siku `[]`).\n",
        "\n",
        "3. **NDim dan Item:**\n",
        "   - `ndim` memberikan informasi tentang jumlah dimensi suatu tensor.\n",
        "   - `item()` digunakan untuk mengambil nilai Python dari tensor.\n",
        "   - Contoh penggunaan pada skalar: `scalar.ndim` dan `scalar.item()`.\n",
        "\n",
        "4. **Shape (Bentuk):**\n",
        "   - Attribut yang memberikan informasi tentang bagaimana elemen-elemen di dalamnya disusun.\n",
        "   - Pada vektor, bentuknya diberikan oleh `vector.shape`, dan dalam contoh di atas, menghasilkan `torch.Size([2])`."
      ]
    },
    {
      "cell_type": "code",
      "execution_count": 2,
      "metadata": {
        "colab": {
          "base_uri": "https://localhost:8080/"
        },
        "id": "YUDgG2zk7Us5",
        "outputId": "ed7088dd-83f1-4b83-9e92-ba940d8641b6"
      },
      "outputs": [
        {
          "output_type": "execute_result",
          "data": {
            "text/plain": [
              "tensor(7)"
            ]
          },
          "metadata": {},
          "execution_count": 2
        }
      ],
      "source": [
        "# Scalar\n",
        "scalar = torch.tensor(7)\n",
        "scalar"
      ]
    },
    {
      "cell_type": "code",
      "execution_count": 3,
      "metadata": {
        "colab": {
          "base_uri": "https://localhost:8080/"
        },
        "id": "lV98Yz868bav",
        "outputId": "4f8ca3b5-e5c7-4d10-9069-c3550d98aa61"
      },
      "outputs": [
        {
          "output_type": "execute_result",
          "data": {
            "text/plain": [
              "0"
            ]
          },
          "metadata": {},
          "execution_count": 3
        }
      ],
      "source": [
        "scalar.ndim"
      ]
    },
    {
      "cell_type": "code",
      "execution_count": 4,
      "metadata": {
        "colab": {
          "base_uri": "https://localhost:8080/"
        },
        "id": "-k4cyKumPfbE",
        "outputId": "ce8ded1a-3e4b-42c0-9b4f-a6a92d15bb17"
      },
      "outputs": [
        {
          "output_type": "execute_result",
          "data": {
            "text/plain": [
              "7"
            ]
          },
          "metadata": {},
          "execution_count": 4
        }
      ],
      "source": [
        "# Get the Python number within a tensor (only works with one-element tensors)\n",
        "scalar.item()"
      ]
    },
    {
      "cell_type": "code",
      "execution_count": 5,
      "metadata": {
        "colab": {
          "base_uri": "https://localhost:8080/"
        },
        "id": "-IZF6ASs8QH9",
        "outputId": "3a68a0f5-6d2e-4799-fbe2-3e8b57349216"
      },
      "outputs": [
        {
          "output_type": "execute_result",
          "data": {
            "text/plain": [
              "tensor([7, 7])"
            ]
          },
          "metadata": {},
          "execution_count": 5
        }
      ],
      "source": [
        "# Vector\n",
        "vector = torch.tensor([7, 7])\n",
        "vector"
      ]
    },
    {
      "cell_type": "code",
      "execution_count": 6,
      "metadata": {
        "colab": {
          "base_uri": "https://localhost:8080/"
        },
        "id": "03hm3VVv8kr4",
        "outputId": "8c54da76-a7b0-4800-dee2-78205417bd6f"
      },
      "outputs": [
        {
          "output_type": "execute_result",
          "data": {
            "text/plain": [
              "1"
            ]
          },
          "metadata": {},
          "execution_count": 6
        }
      ],
      "source": [
        "# Check the number of dimensions of vector\n",
        "vector.ndim"
      ]
    },
    {
      "cell_type": "code",
      "execution_count": 7,
      "metadata": {
        "colab": {
          "base_uri": "https://localhost:8080/"
        },
        "id": "6zREV1bDTGe2",
        "outputId": "da31edfd-978f-4cb2-b90b-111f0f623151"
      },
      "outputs": [
        {
          "output_type": "execute_result",
          "data": {
            "text/plain": [
              "torch.Size([2])"
            ]
          },
          "metadata": {},
          "execution_count": 7
        }
      ],
      "source": [
        "# Check shape of vector\n",
        "vector.shape"
      ]
    },
    {
      "cell_type": "markdown",
      "source": [
        "1. **Matrix (Matriks):**\n",
        "   - Tensor dua dimensi yang fleksibel seperti vektor, tetapi dengan satu dimensi ekstra.\n",
        "   - Representasinya menggunakan `torch.tensor([[7, 8], [9, 10]])`.\n",
        "   - Memiliki dua dimensi (diketahui dari jumlah tanda kurung siku `[]`).\n",
        "\n",
        "2. **Cek Dimensi dan Bentuk:**\n",
        "   - Jumlah dimensi suatu tensor dapat diperiksa dengan menggunakan `ndim`.\n",
        "   - Bentuk dari suatu tensor dapat diperoleh dengan menggunakan `shape`.\n",
        "   - Contoh penggunaan pada MATRIX: `MATRIX.ndim` dan `MATRIX.shape` menghasilkan bentuk `torch.Size([2, 2])`.\n",
        "\n",
        "3. **Tensor:**\n",
        "   - Tensor dapat memiliki lebih dari dua dimensi.\n",
        "   - Representasinya menggunakan `torch.tensor([[[1, 2, 3], [3, 6, 9], [2, 4, 5]]])`."
      ],
      "metadata": {
        "id": "iYR7KT5mEQIf"
      }
    },
    {
      "cell_type": "code",
      "execution_count": 8,
      "metadata": {
        "colab": {
          "base_uri": "https://localhost:8080/"
        },
        "id": "D5iNwCYL8QO9",
        "outputId": "c063f663-be20-408c-bdf0-fb87f5e4aacc"
      },
      "outputs": [
        {
          "output_type": "execute_result",
          "data": {
            "text/plain": [
              "tensor([[ 7,  8],\n",
              "        [ 9, 10]])"
            ]
          },
          "metadata": {},
          "execution_count": 8
        }
      ],
      "source": [
        "# Matrix\n",
        "MATRIX = torch.tensor([[7, 8],\n",
        "                       [9, 10]])\n",
        "MATRIX"
      ]
    },
    {
      "cell_type": "code",
      "execution_count": 9,
      "metadata": {
        "colab": {
          "base_uri": "https://localhost:8080/"
        },
        "id": "8LREUbeb8r8j",
        "outputId": "39717abb-a9a2-4915-e4a4-de0420946b01"
      },
      "outputs": [
        {
          "output_type": "execute_result",
          "data": {
            "text/plain": [
              "2"
            ]
          },
          "metadata": {},
          "execution_count": 9
        }
      ],
      "source": [
        "# Check number of dimensions\n",
        "MATRIX.ndim"
      ]
    },
    {
      "cell_type": "code",
      "execution_count": 10,
      "metadata": {
        "colab": {
          "base_uri": "https://localhost:8080/"
        },
        "id": "_TL26I31TGe3",
        "outputId": "09e3ca3d-a6be-4f63-b732-04eab56d8fa6"
      },
      "outputs": [
        {
          "output_type": "execute_result",
          "data": {
            "text/plain": [
              "torch.Size([2, 2])"
            ]
          },
          "metadata": {},
          "execution_count": 10
        }
      ],
      "source": [
        "MATRIX.shape"
      ]
    },
    {
      "cell_type": "code",
      "execution_count": 11,
      "metadata": {
        "colab": {
          "base_uri": "https://localhost:8080/"
        },
        "id": "wEMDQr188QWW",
        "outputId": "9f39eb97-aeef-445a-f4a6-a1760aa15c4c"
      },
      "outputs": [
        {
          "output_type": "execute_result",
          "data": {
            "text/plain": [
              "tensor([[[1, 2, 3],\n",
              "         [3, 6, 9],\n",
              "         [2, 4, 5]]])"
            ]
          },
          "metadata": {},
          "execution_count": 11
        }
      ],
      "source": [
        "# Tensor\n",
        "TENSOR = torch.tensor([[[1, 2, 3],\n",
        "                        [3, 6, 9],\n",
        "                        [2, 4, 5]]])\n",
        "TENSOR"
      ]
    },
    {
      "cell_type": "code",
      "execution_count": 12,
      "metadata": {
        "colab": {
          "base_uri": "https://localhost:8080/"
        },
        "id": "8dhuEsjS8QcT",
        "outputId": "1880d368-fdc6-4fbe-f877-fd8c4990f1ae"
      },
      "outputs": [
        {
          "output_type": "execute_result",
          "data": {
            "text/plain": [
              "3"
            ]
          },
          "metadata": {},
          "execution_count": 12
        }
      ],
      "source": [
        "# Check number of dimensions for TENSOR\n",
        "TENSOR.ndim"
      ]
    },
    {
      "cell_type": "code",
      "execution_count": 13,
      "metadata": {
        "colab": {
          "base_uri": "https://localhost:8080/"
        },
        "id": "hdVv4iNRTGe5",
        "outputId": "92f89892-70a0-41e7-e2cf-bf263a15cb3e"
      },
      "outputs": [
        {
          "output_type": "execute_result",
          "data": {
            "text/plain": [
              "torch.Size([1, 3, 3])"
            ]
          },
          "metadata": {},
          "execution_count": 13
        }
      ],
      "source": [
        "# Check shape of TENSOR\n",
        "TENSOR.shape"
      ]
    },
    {
      "cell_type": "markdown",
      "metadata": {
        "id": "zxk8GU7oTGe5"
      },
      "source": [
        "1. **Dimensi dan Bentuk Tensor:**\n",
        "   - Untuk mendapatkan jumlah dimensi suatu tensor, kita dapat menggunakan `ndim`.\n",
        "   - Bentuk dari suatu tensor dapat diperoleh dengan menggunakan `shape`.\n",
        "   - Contoh pada tensor `TENSOR`: `TENSOR.ndim` menghasilkan `3` dan `TENSOR.shape` menghasilkan `torch.Size([1, 3, 3])`.\n",
        "\n",
        "2. **Pemahaman Singkat:**\n",
        "   - Scalar: Sebuah angka tunggal.\n",
        "   - Vector: Sebuah array satu dimensi dari angka.\n",
        "   - Matrix: Sebuah array dua dimensi dari angka.\n",
        "   - Tensor: Sebuah array n-dimensi dari angka, di mana n bisa berapa saja.\n",
        "   - Notasi umum: Skalar dan vektor biasanya ditulis dengan huruf kecil, sedangkan matriks dan tensor dengan huruf besar.\n",
        "   \n",
        "3. **Tabel Ringkas:**\n",
        "   | Nama    | Apa itu?                                   | Jumlah Dimensi | Contoh Notasi |\n",
        "   | ------- | ------------------------------------------ | --------------- | ------------- |\n",
        "   | Scalar  | Sebuah angka tunggal                       | 0               | Lower (`a`)   |\n",
        "   | Vector  | Sebuah array satu dimensi dari angka       | 1               | Lower (`y`)   |\n",
        "   | Matrix  | Sebuah array dua dimensi dari angka        | 2               | Upper (`Q`)   |\n",
        "   | Tensor  | Sebuah array n-dimensi dari angka           | Bisa berapa saja| Upper (`X`)   |\n",
        "\n",
        "   ![scalar vector matrix tensor and what they look like](https://raw.githubusercontent.com/mrdbourke/pytorch-deep-learning/main/images/00-scalar-vector-matrix-tensor.png)"
      ]
    },
    {
      "cell_type": "markdown",
      "metadata": {
        "id": "dms7G4nkTGe5"
      },
      "source": [
        "### Random tensors\n",
        "\n",
        "Pembuatan tensor dengan angka acak menggunakan `torch.rand()` dapat dilihat sebagai berikut:\n",
        "\n",
        "1. **Pembuatan Tensor dengan Angka Acak:**\n",
        "   - `torch.rand(size=(3, 4))` digunakan untuk membuat tensor dengan nilai acak yang memiliki ukuran tertentu.\n",
        "   - Parameter `size` menentukan bentuk atau dimensi dari tensor yang akan dibuat, contoh: `(3, 4)`.\n",
        "   - Contoh penggunaan: `random_tensor = torch.rand(size=(3, 4))`.\n",
        "\n",
        "2. **Ukuran Tensor yang Fleksibel:**\n",
        "   - `torch.rand()` dapat digunakan dengan ukuran yang disesuaikan, misalnya, untuk menciptakan tensor yang merepresentasikan gambar dengan bentuk umum [224, 224, 3] ([tinggi, lebar, saluran warna]).\n",
        "   - Contoh penggunaan: `random_image_size_tensor = torch.rand(size=(224, 224, 3))`.\n",
        "\n",
        "Dengan menggunakan poin-poin di atas, kita dapat membuat tensor dengan angka acak sesuai dengan ukuran yang dibutuhkan, yang seringkali merupakan langkah awal dalam pembangunan model machine learning."
      ]
    },
    {
      "cell_type": "code",
      "execution_count": 14,
      "metadata": {
        "colab": {
          "base_uri": "https://localhost:8080/"
        },
        "id": "EOJEtDx--GnK",
        "outputId": "6d4496c9-f7c7-492e-ca8f-1d5e41b2983f"
      },
      "outputs": [
        {
          "output_type": "execute_result",
          "data": {
            "text/plain": [
              "(tensor([[0.4043, 0.8834, 0.9275, 0.8074],\n",
              "         [0.6551, 0.9651, 0.4101, 0.0596],\n",
              "         [0.5910, 0.5900, 0.6019, 0.4714]]),\n",
              " torch.float32)"
            ]
          },
          "metadata": {},
          "execution_count": 14
        }
      ],
      "source": [
        "# Create a random tensor of size (3, 4)\n",
        "random_tensor = torch.rand(size=(3, 4))\n",
        "random_tensor, random_tensor.dtype"
      ]
    },
    {
      "cell_type": "code",
      "execution_count": 15,
      "metadata": {
        "colab": {
          "base_uri": "https://localhost:8080/"
        },
        "id": "xMF_NUp3Ym__",
        "outputId": "61d3553f-580b-43c8-826e-56d0f21bddc4"
      },
      "outputs": [
        {
          "output_type": "execute_result",
          "data": {
            "text/plain": [
              "(torch.Size([224, 224, 3]), 3)"
            ]
          },
          "metadata": {},
          "execution_count": 15
        }
      ],
      "source": [
        "# Create a random tensor of size (224, 224, 3)\n",
        "random_image_size_tensor = torch.rand(size=(224, 224, 3))\n",
        "random_image_size_tensor.shape, random_image_size_tensor.ndim"
      ]
    },
    {
      "cell_type": "markdown",
      "metadata": {
        "id": "0MQNTY0eTGe6"
      },
      "source": [
        "### Zeros and ones\n",
        "\n",
        "1. **Tensor dengan Nilai Nol:**\n",
        "   - `torch.zeros(size=(3, 4))` digunakan untuk membuat tensor dengan semua nilai nol.\n",
        "   - Parameter `size` menentukan bentuk atau dimensi dari tensor yang akan dibuat, contoh: `(3, 4)`.\n",
        "   - Contoh penggunaan: `zeros = torch.zeros(size=(3, 4))`.\n",
        "\n",
        "2. **Tensor dengan Nilai Satu:**\n",
        "   - `torch.ones(size=(3, 4))` digunakan untuk membuat tensor dengan semua nilai satu.\n",
        "   - Parameter `size` menentukan bentuk atau dimensi dari tensor yang akan dibuat, contoh: `(3, 4)`.\n",
        "   - Contoh penggunaan: `ones = torch.ones(size=(3, 4))`.\n",
        "\n",
        "Dengan menggunakan poin-poin di atas, kita dapat membuat tensor dengan nilai nol atau satu sesuai dengan bentuk atau dimensi yang diinginkan. Hal ini sering digunakan dalam situasi seperti masking pada model deep learning."
      ]
    },
    {
      "cell_type": "code",
      "execution_count": 16,
      "metadata": {
        "colab": {
          "base_uri": "https://localhost:8080/"
        },
        "id": "oCzhd0hl9Vp6",
        "outputId": "b8008272-e2b2-432c-be8a-272d69b660a0"
      },
      "outputs": [
        {
          "output_type": "execute_result",
          "data": {
            "text/plain": [
              "(tensor([[0., 0., 0., 0.],\n",
              "         [0., 0., 0., 0.],\n",
              "         [0., 0., 0., 0.]]),\n",
              " torch.float32)"
            ]
          },
          "metadata": {},
          "execution_count": 16
        }
      ],
      "source": [
        "# Create a tensor of all zeros\n",
        "zeros = torch.zeros(size=(3, 4))\n",
        "zeros, zeros.dtype"
      ]
    },
    {
      "cell_type": "code",
      "execution_count": 17,
      "metadata": {
        "colab": {
          "base_uri": "https://localhost:8080/"
        },
        "id": "HRe6sSXiTGe6",
        "outputId": "4a1f9714-eb12-4ba0-da79-0d5c0c8b189b"
      },
      "outputs": [
        {
          "output_type": "execute_result",
          "data": {
            "text/plain": [
              "(tensor([[1., 1., 1., 1.],\n",
              "         [1., 1., 1., 1.],\n",
              "         [1., 1., 1., 1.]]),\n",
              " torch.float32)"
            ]
          },
          "metadata": {},
          "execution_count": 17
        }
      ],
      "source": [
        "# Create a tensor of all ones\n",
        "ones = torch.ones(size=(3, 4))\n",
        "ones, ones.dtype"
      ]
    },
    {
      "cell_type": "markdown",
      "metadata": {
        "id": "hib1NYrSarL2"
      },
      "source": [
        "### Creating a range and tensors like\n",
        "\n",
        "1. **`torch.arange` untuk Rentang Angka:**\n",
        "   - `torch.arange(start, end, step)` digunakan untuk membuat rentang angka dengan parameter:\n",
        "     - `start`: awal rentang (contoh: 0),\n",
        "     - `end`: akhir rentang (contoh: 10),\n",
        "     - `step`: langkah antar nilai (contoh: 1).\n",
        "   - Contoh penggunaan: `torch.arange(start=0, end=10, step=1)`.\n",
        "\n",
        "2. **Tensor dari Rentang 0 hingga 10:**\n",
        "   - `zero_to_ten = torch.arange(start=0, end=10, step=1)` digunakan untuk membuat tensor dengan nilai dari 0 hingga 10.\n",
        "   - `zero_to_ten_deprecated` menggunakan `torch.range()` yang sudah tidak direkomendasikan dan dapat menimbulkan error di masa depan.\n",
        "\n",
        "3. **Tensor dari Nilai Nol dengan Bentuk Sama:**\n",
        "   - `torch.zeros_like(input=zero_to_ten)` membuat tensor yang berisi nilai-nol dengan bentuk yang sama seperti tensor `zero_to_ten`.\n",
        "   - Hal serupa dapat dilakukan dengan `torch.ones_like(input)` untuk membuat tensor dengan nilai satu."
      ]
    },
    {
      "cell_type": "code",
      "execution_count": 18,
      "metadata": {
        "colab": {
          "base_uri": "https://localhost:8080/"
        },
        "id": "1IqUs81d9W4W",
        "outputId": "ed1ba1ea-068f-449f-bba7-7aa1a47afcf0"
      },
      "outputs": [
        {
          "output_type": "stream",
          "name": "stderr",
          "text": [
            "<ipython-input-18-a404776195c1>:2: UserWarning: torch.range is deprecated and will be removed in a future release because its behavior is inconsistent with Python's range builtin. Instead, use torch.arange, which produces values in [start, end).\n",
            "  zero_to_ten_deprecated = torch.range(0, 10) # Note: this may return an error in the future\n"
          ]
        },
        {
          "output_type": "execute_result",
          "data": {
            "text/plain": [
              "tensor([0, 1, 2, 3, 4, 5, 6, 7, 8, 9])"
            ]
          },
          "metadata": {},
          "execution_count": 18
        }
      ],
      "source": [
        "# Use torch.arange(), torch.range() is deprecated\n",
        "zero_to_ten_deprecated = torch.range(0, 10) # Note: this may return an error in the future\n",
        "\n",
        "# Create a range of values 0 to 10\n",
        "zero_to_ten = torch.arange(start=0, end=10, step=1)\n",
        "zero_to_ten"
      ]
    },
    {
      "cell_type": "code",
      "execution_count": 19,
      "metadata": {
        "colab": {
          "base_uri": "https://localhost:8080/"
        },
        "id": "ZvXwUut5BhHq",
        "outputId": "a6eff78b-c6ba-4cdc-fe60-6598682f92e2"
      },
      "outputs": [
        {
          "output_type": "execute_result",
          "data": {
            "text/plain": [
              "tensor([0, 0, 0, 0, 0, 0, 0, 0, 0, 0])"
            ]
          },
          "metadata": {},
          "execution_count": 19
        }
      ],
      "source": [
        "# Can also create a tensor of zeros similar to another tensor\n",
        "ten_zeros = torch.zeros_like(input=zero_to_ten) # will have same shape\n",
        "ten_zeros"
      ]
    },
    {
      "cell_type": "markdown",
      "metadata": {
        "id": "huKZ6QlYTGe7"
      },
      "source": [
        "### Tensor datatypes\n",
        "\n",
        "Potongan kode di bawah membahas berbagai jenis tipe data tensor yang tersedia dalam PyTorch dan bagaimana cara membuat tensor dengan tipe data tertentu.\n",
        "\n",
        "1. **Jenis Tipe Data Tensor:**\n",
        "   - Ada berbagai jenis tipe data tensor dalam PyTorch, termasuk untuk CPU dan GPU.\n",
        "   - Tipe data umumnya terdiri dari `torch.float32` atau `torch.float` (32-bit floating point), `torch.float16` atau `torch.half` (16-bit floating point), dan `torch.float64` atau `torch.double` (64-bit floating point).\n",
        "   - Selain itu, terdapat tipe data integer dengan berbagai presisi seperti 8-bit, 16-bit, 32-bit, dan 64-bit.\n",
        "\n",
        "2. **Presisi dalam Komputasi:**\n",
        "   - Presisi merujuk pada sejauh mana detail digunakan untuk menggambarkan suatu angka.\n",
        "   - Semakin tinggi nilai presisi (8, 16, 32), semakin banyak detail dan data yang digunakan untuk menyatakan suatu angka.\n",
        "   - Dalam komputasi numerik dan deep learning, presisi berpengaruh pada seberapa detail operasi-operasi matematika dapat dijalankan.\n",
        "\n",
        "3. **Pembuatan Tensor dengan Tipe Data Tertentu:**\n",
        "   - Tipe data default untuk tensor adalah `torch.float32`.\n",
        "   - Dapat membuat tensor dengan tipe data tertentu menggunakan parameter `dtype` pada fungsi `torch.tensor`.\n",
        "   - Tipe data dapat mencakup float (32-bit, 16-bit, 64-bit) dan integer (8-bit, 16-bit, 32-bit, 64-bit).\n",
        "\n",
        "Dalam konteks machine learning, pemilihan tipe data dan manipulasi perangkat (device) menjadi penting karena dapat mempengaruhi performa dan kecepatan operasi-operasi pada tensor."
      ]
    },
    {
      "cell_type": "code",
      "execution_count": 20,
      "metadata": {
        "colab": {
          "base_uri": "https://localhost:8080/"
        },
        "id": "q3MoGnpw9XaF",
        "outputId": "3fc16013-9d34-4a43-c262-11f94f394a56"
      },
      "outputs": [
        {
          "output_type": "execute_result",
          "data": {
            "text/plain": [
              "(torch.Size([3]), torch.float32, device(type='cpu'))"
            ]
          },
          "metadata": {},
          "execution_count": 20
        }
      ],
      "source": [
        "# Default datatype for tensors is float32\n",
        "float_32_tensor = torch.tensor([3.0, 6.0, 9.0],\n",
        "                               dtype=None, # defaults to None, which is torch.float32 or whatever datatype is passed\n",
        "                               device=None, # defaults to None, which uses the default tensor type\n",
        "                               requires_grad=False) # if True, operations performed on the tensor are recorded\n",
        "\n",
        "float_32_tensor.shape, float_32_tensor.dtype, float_32_tensor.device"
      ]
    },
    {
      "cell_type": "code",
      "execution_count": 21,
      "metadata": {
        "colab": {
          "base_uri": "https://localhost:8080/"
        },
        "id": "PKSuajld_09s",
        "outputId": "218880e9-5b86-4fbe-9bb4-d9786b4b4a7a"
      },
      "outputs": [
        {
          "output_type": "execute_result",
          "data": {
            "text/plain": [
              "torch.float16"
            ]
          },
          "metadata": {},
          "execution_count": 21
        }
      ],
      "source": [
        "float_16_tensor = torch.tensor([3.0, 6.0, 9.0],\n",
        "                               dtype=torch.float16) # torch.half would also work\n",
        "\n",
        "float_16_tensor.dtype"
      ]
    },
    {
      "cell_type": "markdown",
      "metadata": {
        "id": "gUjkB2AX7Upz"
      },
      "source": [
        "## Getting information from tensors\n",
        "\n",
        "Tiga atribut tensor yang sering digunakan untuk mendapatkan informasi tentang tensor, yaitu `shape`, `dtype`, dan `device`. Berikut adalah penjelasannya:\n",
        "1. **`shape`:**\n",
        "   - Atribut ini memberikan informasi tentang bentuk (shape) tensor, yaitu berapa dimensi dan panjang setiap dimensinya.\n",
        "   - Misalnya, jika tensor memiliki bentuk (3, 4), itu berarti tensor tersebut memiliki dua dimensi, dengan panjang dimensi pertama 3 dan panjang dimensi kedua 4.\n",
        "\n",
        "2. **`dtype`:**\n",
        "   - Atribut ini memberikan informasi tentang tipe data (datatype) elemen-elemen dalam tensor.\n",
        "   - Contoh tipe data termasuk `torch.float32`, `torch.float16`, dan sebagainya, yang menunjukkan apakah tensor menyimpan bilangan real 32-bit, 16-bit, dll.\n",
        "\n",
        "3. **`device`:**\n",
        "   - Atribut ini memberikan informasi tentang perangkat (device) di mana tensor disimpan.\n",
        "   - Perangkat dapat berupa CPU atau GPU. Jika tidak disebutkan, defaultnya adalah CPU.\n",
        "   \n"
      ]
    },
    {
      "cell_type": "code",
      "execution_count": 22,
      "metadata": {
        "colab": {
          "base_uri": "https://localhost:8080/"
        },
        "id": "hd_X4D0j7Umq",
        "outputId": "8dd19e0a-6657-414b-e08f-250c2fdae167"
      },
      "outputs": [
        {
          "output_type": "stream",
          "name": "stdout",
          "text": [
            "tensor([[0.0771, 0.4763, 0.4377, 0.0843],\n",
            "        [0.8778, 0.6068, 0.8421, 0.8699],\n",
            "        [0.7431, 0.2433, 0.3430, 0.3931]])\n",
            "Shape of tensor: torch.Size([3, 4])\n",
            "Datatype of tensor: torch.float32\n",
            "Device tensor is stored on: cpu\n"
          ]
        }
      ],
      "source": [
        "# Create a tensor\n",
        "some_tensor = torch.rand(3, 4)\n",
        "\n",
        "# Find out details about it\n",
        "print(some_tensor)\n",
        "print(f\"Shape of tensor: {some_tensor.shape}\")\n",
        "print(f\"Datatype of tensor: {some_tensor.dtype}\")\n",
        "print(f\"Device tensor is stored on: {some_tensor.device}\") # will default to CPU"
      ]
    },
    {
      "cell_type": "markdown",
      "metadata": {
        "id": "BdiWvoAi7UjL"
      },
      "source": [
        "## Manipulating tensors (tensor operations)\n",
        "\n",
        "Dalam deep learning, data seperti gambar, teks, video, audio, struktur protein, dan sebagainya, direpresentasikan sebagai tensor. Sebuah model belajar dengan menyelidiki tensor-tensor tersebut dan melakukan serangkaian operasi (bisa mencapai ribuan atau lebih) pada tensor untuk membuat representasi pola dalam data masukan.\n",
        "\n",
        "Operasi-operasi ini diantaranya:\n",
        "- Penambahan (Addition)\n",
        "- Pengurangan (Substraction)\n",
        "- Perkalian (element-wise) (Multiplication)\n",
        "- Pembagian (Division)\n",
        "- Perkalian matriks (Matrix multiplication)\n",
        "\n",
        "Dan itulah dasar-dasar pembangunan jaringan saraf (neural networks). Dalam konteks deep learning, neural networks menggunakan operasi-operasi ini untuk mengubah dan memanipulasi data masukan sehingga dapat memahami dan mempelajari pola-pola yang ada. Setiap operasi ini memiliki peranannya masing-masing dalam membantu neural networks memahami dan mengekstraksi fitur-fitur penting dari data."
      ]
    },
    {
      "cell_type": "markdown",
      "metadata": {
        "id": "Sk_6Dd7L7Uce"
      },
      "source": [
        "### Basic operations\n",
        "\n",
        "Beberapa operasi dasar pada tensor dalam PyTorch, seperti penambahan (+), pengurangan (-), dan perkalian (*).\n",
        "\n",
        "1. **Penambahan, Pengurangan, dan Perkalian:**\n",
        "   - Dapat melakukan operasi penambahan, pengurangan, dan perkalian pada tensor menggunakan operator matematika standar.\n",
        "   - Contoh: Membuat tensor `[1, 2, 3]` dan menambahkannya dengan angka 10 (`tensor + 10`), serta mengalikannya dengan 10 (`tensor * 10`).\n",
        "\n",
        "2. **Reassign vs Non-Reassign:**\n",
        "   - Nilai dalam tensor tidak berubah kecuali diassign kembali. Meskipun operasi penambahan dan perkalian dilakukan, nilai dalam tensor tidak berubah kecuali tensor diassign kembali.\n",
        "\n",
        "3. **Reassign Tensor:**\n",
        "   - Misalnya, melakukan pengurangan dan assignment ulang tensor (`tensor = tensor - 10`), serta penambahan dan assignment ulang tensor (`tensor = tensor + 10`).\n",
        "\n",
        "4. **Penggunaan Fungsi PyTorch:**\n",
        "   - PyTorch menyediakan fungsi bawaan seperti `torch.mul()` (singkatan dari multiplication) dan `torch.add()` untuk melakukan operasi dasar.\n",
        "   - Contoh: Menggunakan fungsi `torch.multiply(tensor, 10)` untuk melakukan perkalian pada tensor.\n",
        "\n",
        "5. **Penggunaan Operator dan Fungsi:**\n",
        "   - Meskipun terdapat fungsi PyTorch bawaan, lebih umum menggunakan simbol operator matematika seperti `*` untuk perkalian daripada fungsi seperti `torch.mul()`.\n",
        "\n",
        "6. **Perkalian Elemen-wise:**\n",
        "   - Operasi `tensor * tensor` merupakan perkalian elemen-wise, di mana setiap elemen pada indeks yang sama dikalikan.\n",
        "\n",
        "Melalui operasi dasar ini, tensor dapat dimanipulasi untuk membentuk representasi data yang diperlukan dalam konteks pengembangan model machine learning."
      ]
    },
    {
      "cell_type": "code",
      "execution_count": 23,
      "metadata": {
        "colab": {
          "base_uri": "https://localhost:8080/"
        },
        "id": "X71WpQoPD7a4",
        "outputId": "f1c752ca-3636-461f-d7f8-982b1756bc01"
      },
      "outputs": [
        {
          "output_type": "execute_result",
          "data": {
            "text/plain": [
              "tensor([11, 12, 13])"
            ]
          },
          "metadata": {},
          "execution_count": 23
        }
      ],
      "source": [
        "# Create a tensor of values and add a number to it\n",
        "tensor = torch.tensor([1, 2, 3])\n",
        "tensor + 10"
      ]
    },
    {
      "cell_type": "code",
      "execution_count": 24,
      "metadata": {
        "colab": {
          "base_uri": "https://localhost:8080/"
        },
        "id": "Sp4TlTWWEFeO",
        "outputId": "79e18622-cfed-4f94-c5c1-efb0f0687238"
      },
      "outputs": [
        {
          "output_type": "execute_result",
          "data": {
            "text/plain": [
              "tensor([10, 20, 30])"
            ]
          },
          "metadata": {},
          "execution_count": 24
        }
      ],
      "source": [
        "# Multiply it by 10\n",
        "tensor * 10"
      ]
    },
    {
      "cell_type": "code",
      "execution_count": 25,
      "metadata": {
        "colab": {
          "base_uri": "https://localhost:8080/"
        },
        "id": "XuB1UjCIEJIA",
        "outputId": "f7ac2277-dc76-43b0-e7d2-ed60a3914ad3"
      },
      "outputs": [
        {
          "output_type": "execute_result",
          "data": {
            "text/plain": [
              "tensor([1, 2, 3])"
            ]
          },
          "metadata": {},
          "execution_count": 25
        }
      ],
      "source": [
        "# Tensors don't change unless reassigned\n",
        "tensor"
      ]
    },
    {
      "cell_type": "code",
      "execution_count": 26,
      "metadata": {
        "colab": {
          "base_uri": "https://localhost:8080/"
        },
        "id": "U4iWKoLsENry",
        "outputId": "75530347-d322-4317-c515-a6bd1c65a32b"
      },
      "outputs": [
        {
          "output_type": "execute_result",
          "data": {
            "text/plain": [
              "tensor([-9, -8, -7])"
            ]
          },
          "metadata": {},
          "execution_count": 26
        }
      ],
      "source": [
        "# Subtract and reassign\n",
        "tensor = tensor - 10\n",
        "tensor"
      ]
    },
    {
      "cell_type": "code",
      "execution_count": 27,
      "metadata": {
        "colab": {
          "base_uri": "https://localhost:8080/"
        },
        "id": "tFgZY-PaFNXa",
        "outputId": "4599d07c-83c0-4154-ba93-6c5ac7c075c8"
      },
      "outputs": [
        {
          "output_type": "execute_result",
          "data": {
            "text/plain": [
              "tensor([1, 2, 3])"
            ]
          },
          "metadata": {},
          "execution_count": 27
        }
      ],
      "source": [
        "# Add and reassign\n",
        "tensor = tensor + 10\n",
        "tensor"
      ]
    },
    {
      "cell_type": "code",
      "execution_count": 28,
      "metadata": {
        "colab": {
          "base_uri": "https://localhost:8080/"
        },
        "id": "uVysdk3kFWbY",
        "outputId": "d22356f5-f10d-4d45-b4c0-426f973c5883"
      },
      "outputs": [
        {
          "output_type": "execute_result",
          "data": {
            "text/plain": [
              "tensor([10, 20, 30])"
            ]
          },
          "metadata": {},
          "execution_count": 28
        }
      ],
      "source": [
        "# Can also use torch functions\n",
        "torch.multiply(tensor, 10)"
      ]
    },
    {
      "cell_type": "code",
      "execution_count": 29,
      "metadata": {
        "colab": {
          "base_uri": "https://localhost:8080/"
        },
        "id": "IxuPJIpNFbqO",
        "outputId": "972c960c-6a0d-4061-87bf-36f06986ae79"
      },
      "outputs": [
        {
          "output_type": "execute_result",
          "data": {
            "text/plain": [
              "tensor([1, 2, 3])"
            ]
          },
          "metadata": {},
          "execution_count": 29
        }
      ],
      "source": [
        "# Original tensor is still unchanged\n",
        "tensor"
      ]
    },
    {
      "cell_type": "code",
      "execution_count": 30,
      "metadata": {
        "colab": {
          "base_uri": "https://localhost:8080/"
        },
        "id": "S5v3RkR0F2Jq",
        "outputId": "81fdb163-4085-4d77-f46c-575107e2d3d4"
      },
      "outputs": [
        {
          "output_type": "stream",
          "name": "stdout",
          "text": [
            "tensor([1, 2, 3]) * tensor([1, 2, 3])\n",
            "Equals: tensor([1, 4, 9])\n"
          ]
        }
      ],
      "source": [
        "# Element-wise multiplication (each element multiplies its equivalent, index 0->0, 1->1, 2->2)\n",
        "print(tensor, \"*\", tensor)\n",
        "print(\"Equals:\", tensor * tensor)"
      ]
    },
    {
      "cell_type": "markdown",
      "metadata": {
        "id": "TT5fVuyu7q5z"
      },
      "source": [
        "### Matrix multiplication (is all you need)\n",
        "\n",
        "Operasi perkalian matriks dalam konteks pengembangan model machine learning menggunakan PyTorch.\n",
        "\n",
        "1. **Operasi Perkalian Matriks dalam PyTorch:**\n",
        "   - PyTorch menyediakan fungsionalitas perkalian matriks melalui metode `torch.matmul()`.\n",
        "   - Aturan utama dalam perkalian matriks:\n",
        "     - Dimensi dalam (inner dimensions) harus sesuai.\n",
        "     - Matriks hasil memiliki bentuk dari dimensi luar (outer dimensions).\n",
        "\n",
        "2. **Contoh Penggunaan:**\n",
        "   - Membuat tensor `tensor` dengan bentuk `(1, 2, 3)`.\n",
        "\n",
        "3. **Perbedaan Antara Perkalian Elemen-wise dan Perkalian Matriks:**\n",
        "   - Perkalian elemen-wise melibatkan perkalian setiap elemen pada posisi yang sama.\n",
        "   - Perkalian matriks melibatkan jumlah hasil perkalian elemen pada setiap baris dan kolom.\n",
        "\n",
        "4. **Operasi Matrix Multiplication:**\n",
        "   - Menggunakan operator `*` untuk perkalian elemen-wise (`tensor * tensor`).\n",
        "   - Menggunakan `torch.matmul()` untuk perkalian matriks (`torch.matmul(tensor, tensor)`).\n",
        "   - Menggunakan simbol \"@\" untuk perkalian matriks (`tensor @ tensor`).\n",
        "\n",
        "5. **Kecepatan Perkalian Matriks:**\n",
        "   - Meskipun dapat melakukan perkalian matriks secara manual, disarankan untuk menggunakan metode `torch.matmul()`, yang lebih cepat.\n",
        "   - Demonstrasi perbedaan kecepatan antara kedua pendekatan tersebut menggunakan `%time`.\n",
        "\n",
        "Melalui operasi perkalian matriks, model machine learning dapat menggabungkan informasi dari berbagai fitur dalam data, yang merupakan operasi dasar dalam neural networks dan algoritma deep learning."
      ]
    },
    {
      "cell_type": "code",
      "execution_count": 31,
      "metadata": {
        "colab": {
          "base_uri": "https://localhost:8080/"
        },
        "id": "ZE7loucmDlEM",
        "outputId": "d1be53d1-c7ec-4b10-e168-055bd55e7c51"
      },
      "outputs": [
        {
          "output_type": "execute_result",
          "data": {
            "text/plain": [
              "torch.Size([3])"
            ]
          },
          "metadata": {},
          "execution_count": 31
        }
      ],
      "source": [
        "import torch\n",
        "tensor = torch.tensor([1, 2, 3])\n",
        "tensor.shape"
      ]
    },
    {
      "cell_type": "code",
      "execution_count": 32,
      "metadata": {
        "colab": {
          "base_uri": "https://localhost:8080/"
        },
        "id": "i42gkUeHvI_1",
        "outputId": "f20fa878-4028-4f16-9faa-d855ece6bff4"
      },
      "outputs": [
        {
          "output_type": "execute_result",
          "data": {
            "text/plain": [
              "tensor([1, 4, 9])"
            ]
          },
          "metadata": {},
          "execution_count": 32
        }
      ],
      "source": [
        "# Element-wise matrix multiplication\n",
        "tensor * tensor"
      ]
    },
    {
      "cell_type": "code",
      "execution_count": 33,
      "metadata": {
        "colab": {
          "base_uri": "https://localhost:8080/"
        },
        "id": "PvCBiiTTDk8y",
        "outputId": "80b99705-6354-4c22-c7f4-46767d853381"
      },
      "outputs": [
        {
          "output_type": "execute_result",
          "data": {
            "text/plain": [
              "tensor(14)"
            ]
          },
          "metadata": {},
          "execution_count": 33
        }
      ],
      "source": [
        "# Matrix multiplication\n",
        "torch.matmul(tensor, tensor)"
      ]
    },
    {
      "cell_type": "code",
      "execution_count": 34,
      "metadata": {
        "colab": {
          "base_uri": "https://localhost:8080/"
        },
        "id": "m4E_pROBDk2r",
        "outputId": "b6bb08fa-afdf-4ea7-9fbb-9a78807035ff"
      },
      "outputs": [
        {
          "output_type": "execute_result",
          "data": {
            "text/plain": [
              "tensor(14)"
            ]
          },
          "metadata": {},
          "execution_count": 34
        }
      ],
      "source": [
        "# Can also use the \"@\" symbol for matrix multiplication, though not recommended\n",
        "tensor @ tensor"
      ]
    },
    {
      "cell_type": "code",
      "execution_count": 35,
      "metadata": {
        "colab": {
          "base_uri": "https://localhost:8080/"
        },
        "id": "6qMSaLOoJscL",
        "outputId": "6bf75b8d-ec24-491d-bda2-d65f28eb7955"
      },
      "outputs": [
        {
          "output_type": "stream",
          "name": "stdout",
          "text": [
            "CPU times: user 2.25 ms, sys: 48 µs, total: 2.3 ms\n",
            "Wall time: 3.37 ms\n"
          ]
        },
        {
          "output_type": "execute_result",
          "data": {
            "text/plain": [
              "tensor(14)"
            ]
          },
          "metadata": {},
          "execution_count": 35
        }
      ],
      "source": [
        "%%time\n",
        "# Matrix multiplication by hand\n",
        "# (avoid doing operations with for loops at all cost, they are computationally expensive)\n",
        "value = 0\n",
        "for i in range(len(tensor)):\n",
        "  value += tensor[i] * tensor[i]\n",
        "value"
      ]
    },
    {
      "cell_type": "code",
      "execution_count": 36,
      "metadata": {
        "colab": {
          "base_uri": "https://localhost:8080/"
        },
        "id": "vVWiKB0KwH74",
        "outputId": "742d5a3f-0413-4af0-b674-be37156c3880"
      },
      "outputs": [
        {
          "output_type": "stream",
          "name": "stdout",
          "text": [
            "CPU times: user 32 µs, sys: 7 µs, total: 39 µs\n",
            "Wall time: 41.7 µs\n"
          ]
        },
        {
          "output_type": "execute_result",
          "data": {
            "text/plain": [
              "tensor(14)"
            ]
          },
          "metadata": {},
          "execution_count": 36
        }
      ],
      "source": [
        "%%time\n",
        "torch.matmul(tensor, tensor)"
      ]
    },
    {
      "cell_type": "markdown",
      "metadata": {
        "id": "aJ4DDmo1TGe-"
      },
      "source": [
        "## One of the most common errors in deep learning (shape errors)\n",
        "\n",
        "Kesalahan operasi perkalian matriks dalam konteks pengembangan model machine learning menggunakan PyTorch.\n",
        "\n",
        "1. **Shape Mismatches dalam Perkalian Matriks:**\n",
        "   - Kesalahan umum dalam deep learning adalah kesalahan bentuk (shape mismatches) pada operasi perkalian matriks.\n",
        "   - Pada contoh, perkalian matriks `torch.matmul(tensor_A, tensor_B)` akan menghasilkan kesalahan karena dimensi dalam (inner dimensions) tidak sesuai.\n",
        "\n",
        "2. **Solusi dengan Transpose:**\n",
        "   - Salah satu cara untuk membuat perkalian matriks berfungsi adalah dengan melakukan transpose pada salah satu matriks.\n",
        "   - Transpose dapat dilakukan menggunakan `torch.transpose(input, dim0, dim1)` atau menggunakan `.T` pada tensor.\n",
        "\n",
        "3. **Visualisasi dan Contoh:**\n",
        "   - Memperlihatkan tensor `tensor_A` dan `tensor_B`, kemudian mencoba transpose pada `tensor_B`.\n",
        "   - Operasi perkalian matriks berhasil saat `tensor_B` ditranspose.\n",
        "   - Menunjukkan visualisasi dengan contoh tabel operasi perkalian matriks dan visual demo.\n",
        "\n",
        "4. **Penggunaan `torch.mm()`:**\n",
        "   - `torch.mm()` merupakan singkatan dari `torch.matmul()`, dan dapat digunakan untuk melakukan operasi perkalian matriks.\n",
        "\n",
        "5. **Demonstrasi Kecepatan:**\n",
        "   - Membandingkan kecepatan perkalian matriks dengan menggunakan metode manual dan `torch.matmul()`."
      ]
    },
    {
      "cell_type": "code",
      "execution_count": 37,
      "metadata": {
        "colab": {
          "base_uri": "https://localhost:8080/",
          "height": 210
        },
        "id": "rN5RcoD4Jo6y",
        "outputId": "a15a7616-9b2c-4083-a1e8-14e9e93e480e"
      },
      "outputs": [
        {
          "output_type": "error",
          "ename": "RuntimeError",
          "evalue": "ignored",
          "traceback": [
            "\u001b[0;31m---------------------------------------------------------------------------\u001b[0m",
            "\u001b[0;31mRuntimeError\u001b[0m                              Traceback (most recent call last)",
            "\u001b[0;32m<ipython-input-37-5893e600ebdf>\u001b[0m in \u001b[0;36m<cell line: 10>\u001b[0;34m()\u001b[0m\n\u001b[1;32m      8\u001b[0m                          [9, 12]], dtype=torch.float32)\n\u001b[1;32m      9\u001b[0m \u001b[0;34m\u001b[0m\u001b[0m\n\u001b[0;32m---> 10\u001b[0;31m \u001b[0mtorch\u001b[0m\u001b[0;34m.\u001b[0m\u001b[0mmatmul\u001b[0m\u001b[0;34m(\u001b[0m\u001b[0mtensor_A\u001b[0m\u001b[0;34m,\u001b[0m \u001b[0mtensor_B\u001b[0m\u001b[0;34m)\u001b[0m \u001b[0;31m# (this will error)\u001b[0m\u001b[0;34m\u001b[0m\u001b[0;34m\u001b[0m\u001b[0m\n\u001b[0m",
            "\u001b[0;31mRuntimeError\u001b[0m: mat1 and mat2 shapes cannot be multiplied (3x2 and 3x2)"
          ]
        }
      ],
      "source": [
        "# Shapes need to be in the right way\n",
        "tensor_A = torch.tensor([[1, 2],\n",
        "                         [3, 4],\n",
        "                         [5, 6]], dtype=torch.float32)\n",
        "\n",
        "tensor_B = torch.tensor([[7, 10],\n",
        "                         [8, 11],\n",
        "                         [9, 12]], dtype=torch.float32)\n",
        "\n",
        "torch.matmul(tensor_A, tensor_B) # (this will error)"
      ]
    },
    {
      "cell_type": "code",
      "execution_count": 38,
      "metadata": {
        "colab": {
          "base_uri": "https://localhost:8080/"
        },
        "id": "lUqgaANiy1wq",
        "outputId": "d01bbd48-1b89-4eba-826b-91877c43c773"
      },
      "outputs": [
        {
          "output_type": "stream",
          "name": "stdout",
          "text": [
            "tensor([[1., 2.],\n",
            "        [3., 4.],\n",
            "        [5., 6.]])\n",
            "tensor([[ 7., 10.],\n",
            "        [ 8., 11.],\n",
            "        [ 9., 12.]])\n"
          ]
        }
      ],
      "source": [
        "# View tensor_A and tensor_B\n",
        "print(tensor_A)\n",
        "print(tensor_B)"
      ]
    },
    {
      "cell_type": "code",
      "execution_count": 39,
      "metadata": {
        "colab": {
          "base_uri": "https://localhost:8080/"
        },
        "id": "DveqxO7iy_Fi",
        "outputId": "950ebf4e-fbf3-4598-e652-eea0e5f847a9"
      },
      "outputs": [
        {
          "output_type": "stream",
          "name": "stdout",
          "text": [
            "tensor([[1., 2.],\n",
            "        [3., 4.],\n",
            "        [5., 6.]])\n",
            "tensor([[ 7.,  8.,  9.],\n",
            "        [10., 11., 12.]])\n"
          ]
        }
      ],
      "source": [
        "# View tensor_A and tensor_B.T\n",
        "print(tensor_A)\n",
        "print(tensor_B.T)"
      ]
    },
    {
      "cell_type": "code",
      "execution_count": 40,
      "metadata": {
        "colab": {
          "base_uri": "https://localhost:8080/"
        },
        "id": "35rEIu-NKtVE",
        "outputId": "e6f8ff93-a609-4250-d550-3b53af17797a"
      },
      "outputs": [
        {
          "output_type": "stream",
          "name": "stdout",
          "text": [
            "Original shapes: tensor_A = torch.Size([3, 2]), tensor_B = torch.Size([3, 2])\n",
            "\n",
            "New shapes: tensor_A = torch.Size([3, 2]) (same as above), tensor_B.T = torch.Size([2, 3])\n",
            "\n",
            "Multiplying: torch.Size([3, 2]) * torch.Size([2, 3]) <- inner dimensions match\n",
            "\n",
            "Output:\n",
            "\n",
            "tensor([[ 27.,  30.,  33.],\n",
            "        [ 61.,  68.,  75.],\n",
            "        [ 95., 106., 117.]])\n",
            "\n",
            "Output shape: torch.Size([3, 3])\n"
          ]
        }
      ],
      "source": [
        "# The operation works when tensor_B is transposed\n",
        "print(f\"Original shapes: tensor_A = {tensor_A.shape}, tensor_B = {tensor_B.shape}\\n\")\n",
        "print(f\"New shapes: tensor_A = {tensor_A.shape} (same as above), tensor_B.T = {tensor_B.T.shape}\\n\")\n",
        "print(f\"Multiplying: {tensor_A.shape} * {tensor_B.T.shape} <- inner dimensions match\\n\")\n",
        "print(\"Output:\\n\")\n",
        "output = torch.matmul(tensor_A, tensor_B.T)\n",
        "print(output)\n",
        "print(f\"\\nOutput shape: {output.shape}\")"
      ]
    },
    {
      "cell_type": "markdown",
      "metadata": {
        "id": "MfcFEqfLjN24"
      },
      "source": [
        "You can also use [`torch.mm()`](https://pytorch.org/docs/stable/generated/torch.mm.html) which is a short for `torch.matmul()`."
      ]
    },
    {
      "cell_type": "code",
      "execution_count": 41,
      "metadata": {
        "colab": {
          "base_uri": "https://localhost:8080/"
        },
        "id": "x3rJvW_TTGe_",
        "outputId": "36a3ce5d-f368-43af-afbe-03eb509b0903"
      },
      "outputs": [
        {
          "output_type": "execute_result",
          "data": {
            "text/plain": [
              "tensor([[ 27.,  30.,  33.],\n",
              "        [ 61.,  68.,  75.],\n",
              "        [ 95., 106., 117.]])"
            ]
          },
          "metadata": {},
          "execution_count": 41
        }
      ],
      "source": [
        "# torch.mm is a shortcut for matmul\n",
        "torch.mm(tensor_A, tensor_B.T)"
      ]
    },
    {
      "cell_type": "code",
      "execution_count": 42,
      "metadata": {
        "colab": {
          "base_uri": "https://localhost:8080/"
        },
        "id": "mC_MjKW1LX7T",
        "outputId": "bb8ef77e-3778-472b-f617-4b370a848491"
      },
      "outputs": [
        {
          "output_type": "stream",
          "name": "stdout",
          "text": [
            "Input shape: torch.Size([3, 2])\n",
            "\n",
            "Output:\n",
            "tensor([[2.2368, 1.2292, 0.4714, 0.3864, 0.1309, 0.9838],\n",
            "        [4.4919, 2.1970, 0.4469, 0.5285, 0.3401, 2.4777],\n",
            "        [6.7469, 3.1648, 0.4224, 0.6705, 0.5493, 3.9716]],\n",
            "       grad_fn=<AddmmBackward0>)\n",
            "\n",
            "Output shape: torch.Size([3, 6])\n"
          ]
        }
      ],
      "source": [
        "# Since the linear layer starts with a random weights matrix, let's make it reproducible (more on this later)\n",
        "torch.manual_seed(42)\n",
        "# This uses matrix multiplication\n",
        "linear = torch.nn.Linear(in_features=2, # in_features = matches inner dimension of input\n",
        "                         out_features=6) # out_features = describes outer value\n",
        "x = tensor_A\n",
        "output = linear(x)\n",
        "print(f\"Input shape: {x.shape}\\n\")\n",
        "print(f\"Output:\\n{output}\\n\\nOutput shape: {output.shape}\")"
      ]
    },
    {
      "cell_type": "markdown",
      "metadata": {
        "id": "EPNF0nMWoGEj"
      },
      "source": [
        "Penjelasan di atas membahas tentang pentingnya operasi perkalian matriks dalam konteks neural networks dan bagaimana operasi ini digunakan dalam praktek dengan menggunakan PyTorch.\n",
        "\n",
        "1. **Pentingnya Perkalian Matriks dalam Neural Networks:**\n",
        "   - Neural networks banyak menggunakan operasi perkalian matriks, terutama dalam layer-layer seperti `torch.nn.Linear()`.\n",
        "   - Layer linear ini melakukan perkalian matriks antara input `x` dan matriks bobot `A` (weights matrix), ditambah dengan bias `b`.\n",
        "\n",
        "2. **Fungsi Linear Layer:**\n",
        "   - Rumus matematika linear layer: \\(y = x \\cdot A^T + b\\).\n",
        "   - \\(x\\) adalah input ke layer.\n",
        "   - \\(A\\) adalah matriks bobot yang awalnya berisi angka acak dan diubah selama proses pembelajaran untuk merepresentasikan pola dalam data (terdapat transposisi karena bobot matriksnya diubah).\n",
        "   - \\(b\\) adalah nilai bias yang digunakan untuk menyesuaikan sedikit bobot dan input.\n",
        "   - \\(y\\) adalah output, yaitu manipulasi input dengan harapan menemukan pola di dalamnya.\n",
        "\n",
        "3. **Linear Layer dalam Praktek:**\n",
        "   - Menggunakan `torch.nn.Linear()` untuk membuat layer linear dengan mengubah nilai `in_features` dan `out_features`.\n",
        "   - Menampilkan input, output, dan bentuknya.\n",
        "   - Demonstrasi bahwa perubahan nilai `in_features` memengaruhi bentuk output.\n",
        "\n",
        "4. **Matrix Multiplication Reproducibility:**\n",
        "   - Menggunakan `torch.manual_seed(42)` untuk membuat perkalian matriks reproduktif (nilai awal yang sama setiap kali dijalankan).\n"
      ]
    },
    {
      "cell_type": "markdown",
      "metadata": {
        "id": "pjMmrJOOPv5e"
      },
      "source": [
        "### Finding the min, max, mean, sum, etc (aggregation)\n",
        "\n",
        "Cara untuk mengagregasi nilai dalam tensor, seperti mencari nilai maksimum, minimum, rata-rata, dan jumlah:\n",
        "\n",
        "1. **Membuat dan Menampilkan Tensor:**\n",
        "   - Membuat tensor dengan nilai dari 0 hingga 90 dengan interval 10 menggunakan `torch.arange(0, 100, 10)`.\n",
        "   - Menampilkan nilai tensor yang telah dibuat.\n",
        "\n",
        "2. **Aggregasi Nilai dalam Tensor:**\n",
        "   - Menggunakan metode agregasi seperti `min()`, `max()`, `mean()`, dan `sum()` pada tensor.\n",
        "   - Memperlihatkan bahwa operasi `mean()` memerlukan tensor dengan tipe data float, sehingga perlu mengonversi tipe data tensor ke `torch.float32` menggunakan `type(torch.float32).mean()`.\n",
        "\n",
        "3. **Penggunaan Metode Agregasi dengan Torch:**\n",
        "   - Menunjukkan bahwa metode-metode yang sama dapat dilakukan dengan menggunakan metode dari PyTorch, seperti `torch.max()`, `torch.min()`, `torch.mean()`, dan `torch.sum()`.\n",
        "\n"
      ]
    },
    {
      "cell_type": "code",
      "execution_count": 43,
      "metadata": {
        "colab": {
          "base_uri": "https://localhost:8080/"
        },
        "id": "jrFQbe5fP1Rk",
        "outputId": "b93907d3-632b-4823-c3bd-36fa3af4e6b7"
      },
      "outputs": [
        {
          "output_type": "execute_result",
          "data": {
            "text/plain": [
              "tensor([ 0, 10, 20, 30, 40, 50, 60, 70, 80, 90])"
            ]
          },
          "metadata": {},
          "execution_count": 43
        }
      ],
      "source": [
        "# Create a tensor\n",
        "x = torch.arange(0, 100, 10)\n",
        "x"
      ]
    },
    {
      "cell_type": "code",
      "execution_count": 44,
      "metadata": {
        "colab": {
          "base_uri": "https://localhost:8080/"
        },
        "id": "e5wSP9YKP3Lb",
        "outputId": "5a23e22e-f9bf-4eff-8786-25348f3111ae"
      },
      "outputs": [
        {
          "output_type": "stream",
          "name": "stdout",
          "text": [
            "Minimum: 0\n",
            "Maximum: 90\n",
            "Mean: 45.0\n",
            "Sum: 450\n"
          ]
        }
      ],
      "source": [
        "print(f\"Minimum: {x.min()}\")\n",
        "print(f\"Maximum: {x.max()}\")\n",
        "# print(f\"Mean: {x.mean()}\") # this will error\n",
        "print(f\"Mean: {x.type(torch.float32).mean()}\") # won't work without float datatype\n",
        "print(f\"Sum: {x.sum()}\")"
      ]
    },
    {
      "cell_type": "code",
      "execution_count": 45,
      "metadata": {
        "colab": {
          "base_uri": "https://localhost:8080/"
        },
        "id": "0Cr23Y9uP3HO",
        "outputId": "ee6837df-7818-4967-e441-e9f03bdbceb2"
      },
      "outputs": [
        {
          "output_type": "execute_result",
          "data": {
            "text/plain": [
              "(tensor(90), tensor(0), tensor(45.), tensor(450))"
            ]
          },
          "metadata": {},
          "execution_count": 45
        }
      ],
      "source": [
        "torch.max(x), torch.min(x), torch.mean(x.type(torch.float32)), torch.sum(x)"
      ]
    },
    {
      "cell_type": "markdown",
      "metadata": {
        "id": "i7ApCaZjDkvp"
      },
      "source": [
        "### Positional min/max\n",
        "\n",
        "Berikut cara menggunakan metode `torch.argmax()` dan `torch.argmin()` untuk menemukan indeks dari nilai maksimum dan minimum dalam suatu tensor.\n",
        "\n",
        "1. **Membuat dan Menampilkan Tensor:**\n",
        "   - Membuat tensor dengan nilai dari 10 hingga 90 dengan interval 10 menggunakan `torch.arange(10, 100, 10)`.\n",
        "   - Menampilkan nilai tensor yang telah dibuat.\n",
        "\n",
        "2. **Menemukan Indeks Maksimum dan Minimum:**\n",
        "   - Menggunakan metode `torch.argmax()` untuk mendapatkan indeks dari nilai maksimum dalam tensor.\n",
        "   - Menggunakan metode `torch.argmin()` untuk mendapatkan indeks dari nilai minimum dalam tensor.\n",
        "   - Menampilkan indeks di mana nilai maksimum dan minimum terjadi dalam tensor."
      ]
    },
    {
      "cell_type": "code",
      "execution_count": 46,
      "metadata": {
        "colab": {
          "base_uri": "https://localhost:8080/"
        },
        "id": "FzNBl9JSGlHi",
        "outputId": "c76bd78e-8ea8-40dd-8d1f-51c09a0b94c7"
      },
      "outputs": [
        {
          "output_type": "stream",
          "name": "stdout",
          "text": [
            "Tensor: tensor([10, 20, 30, 40, 50, 60, 70, 80, 90])\n",
            "Index where max value occurs: 8\n",
            "Index where min value occurs: 0\n"
          ]
        }
      ],
      "source": [
        "# Create a tensor\n",
        "tensor = torch.arange(10, 100, 10)\n",
        "print(f\"Tensor: {tensor}\")\n",
        "\n",
        "# Returns index of max and min values\n",
        "print(f\"Index where max value occurs: {tensor.argmax()}\")\n",
        "print(f\"Index where min value occurs: {tensor.argmin()}\")"
      ]
    },
    {
      "cell_type": "markdown",
      "metadata": {
        "id": "QBu33WihOXBk"
      },
      "source": [
        "### Change tensor datatype\n",
        "\n",
        "Berikut cara mengubah tipe data (datatype) dari suatu tensor menggunakan metode [`torch.Tensor.type(dtype=None)`].\n",
        "\n",
        "1. **Membuat Tensor dan Memeriksa Tipe Data:**\n",
        "   - Membuat tensor dengan nilai dari 10 hingga 90 dengan interval 10 menggunakan `torch.arange(10., 100., 10.)`.\n",
        "   - Memeriksa tipe data (datatype) dari tensor yang telah dibuat. Secara default, tipe datanya adalah `torch.float32`.\n",
        "\n",
        "2. **Mengubah Tipe Data Tensor:**\n",
        "   - Menggunakan metode `tensor.type(torch.float16)` untuk mengubah tipe data tensor menjadi `torch.float16`.\n",
        "   - Menampilkan tensor yang telah diubah tipe datanya.\n",
        "\n",
        "3. **Tentang Tipe Data Tensor:**\n",
        "   - Menyampaikan catatan bahwa berbagai tipe data tensor (seperti `torch.float32`, `torch.float16`, `torch.int8`) memiliki dampak pada presisi penyimpanan nilai dalam komputer.\n",
        "   - Menyebutkan bahwa semakin kecil angka (misalnya 32, 16, 8), semakin kurang presisi komputer menyimpan nilai tersebut. Tipe data yang lebih rendah umumnya menghasilkan komputasi yang lebih cepat dan model yang lebih kecil secara keseluruhan, meskipun kurang akurat.\n",
        "   - Memberikan contoh bahwa jaringan saraf berbasis mobile sering kali menggunakan bilangan bulat 8-bit untuk komputasi yang lebih cepat dan model yang lebih kecil."
      ]
    },
    {
      "cell_type": "code",
      "execution_count": null,
      "metadata": {
        "id": "rY2FEsCAOaLu"
      },
      "outputs": [],
      "source": [
        "# Create a tensor and check its datatype\n",
        "tensor = torch.arange(10., 100., 10.)\n",
        "tensor.dtype"
      ]
    },
    {
      "cell_type": "code",
      "execution_count": 48,
      "metadata": {
        "colab": {
          "base_uri": "https://localhost:8080/"
        },
        "id": "Cac8gRYjOeab",
        "outputId": "ae09cb82-3e1f-4644-e46b-0956d2994bae"
      },
      "outputs": [
        {
          "output_type": "execute_result",
          "data": {
            "text/plain": [
              "tensor([10., 20., 30., 40., 50., 60., 70., 80., 90.], dtype=torch.float16)"
            ]
          },
          "metadata": {},
          "execution_count": 48
        }
      ],
      "source": [
        "# Create a float16 tensor\n",
        "tensor_float16 = tensor.type(torch.float16)\n",
        "tensor_float16"
      ]
    },
    {
      "cell_type": "code",
      "execution_count": 49,
      "metadata": {
        "colab": {
          "base_uri": "https://localhost:8080/"
        },
        "id": "8Yqovld2Oj6s",
        "outputId": "a7004f4d-24cf-43f0-96ef-518fcb0c45b6"
      },
      "outputs": [
        {
          "output_type": "execute_result",
          "data": {
            "text/plain": [
              "tensor([10, 20, 30, 40, 50, 60, 70, 80, 90], dtype=torch.int8)"
            ]
          },
          "metadata": {},
          "execution_count": 49
        }
      ],
      "source": [
        "# Create a int8 tensor\n",
        "tensor_int8 = tensor.type(torch.int8)\n",
        "tensor_int8"
      ]
    },
    {
      "cell_type": "markdown",
      "metadata": {
        "id": "7CkCtAYmGsHY"
      },
      "source": [
        "### Reshaping, stacking, squeezing and unsqueezing\n",
        "\n",
        "Metode-metode ini berguna dalam menyesuaikan bentuk dan dimensi tensor untuk memenuhi persyaratan operasi dalam pembelajaran mendalam (deep learning), terutama dalam penggunaan operasi matriks. Selain itu, untuk mengubah bentuk atau dimensi dari tensor tanpa mengubah nilai di dalamnya.\n",
        "\n",
        "1. **`torch.reshape(input, shape)` atau `Tensor.view(shape)`**\n",
        "   - Metode ini digunakan untuk mengubah bentuk (`shape`) dari tensor `input` jika bentuknya kompatibel. Metode ini dapat digunakan sebagai `torch.reshape()` atau `Tensor.view()`.\n",
        "   - `torch.reshape(input, shape)` digunakan untuk mengubah bentuk tensor.\n",
        "   - `Tensor.view(shape)` mengembalikan tampilan (view) dari tensor asli dengan bentuk yang berbeda tetapi menggunakan data yang sama dengan tensor asli.\n",
        "\n",
        "2. **`torch.stack(tensors, dim=0)`**\n",
        "   - Metode ini digunakan untuk menggabungkan urutan tensor (`tensors`) sepanjang dimensi baru (`dim`). Semua tensor harus memiliki ukuran yang sama.\n",
        "   - Contoh penggunaan: `torch.stack([x, x, x, x], dim=0)` untuk menumpuk tensor satu di atas yang lain.\n",
        "\n",
        "3. **`torch.squeeze(input)` dan `torch.unsqueeze(input, dim)`**\n",
        "   - `torch.squeeze(input)` digunakan untuk menyusutkan dimensi yang memiliki nilai 1 dari tensor.\n",
        "   - `torch.unsqueeze(input, dim)` digunakan untuk menambah dimensi dengan nilai 1 pada indeks tertentu.\n",
        "   - Contoh penggunaan: `x_reshaped.squeeze()` untuk menghilangkan dimensi tambahan dan `x_squeezed.unsqueeze(dim=0)` untuk menambah dimensi pada indeks 0.\n",
        "\n",
        "4. **`torch.permute(input, dims)`**\n",
        "   - Metode ini digunakan untuk mengubah urutan nilai sumbu pada tensor `input`.\n",
        "   - Contoh penggunaan: `x_original.permute(2, 0, 1)` untuk menukar urutan sumbu menjadi 2->0, 0->1, 1->2.\n",
        "\n",
        "Penting untuk dicatat bahwa beberapa metode, seperti `torch.view()` dan `torch.permute()`, mengembalikan tampilan (view) dari tensor asli, yang berarti jika nilai di dalam tampilan diubah, nilai asli tensor juga akan berubah."
      ]
    },
    {
      "cell_type": "code",
      "execution_count": 50,
      "metadata": {
        "colab": {
          "base_uri": "https://localhost:8080/"
        },
        "id": "EYjRTLOzG4Ev",
        "outputId": "7e8c6edd-9650-418e-d30b-2a339fece510"
      },
      "outputs": [
        {
          "output_type": "execute_result",
          "data": {
            "text/plain": [
              "(tensor([1., 2., 3., 4., 5., 6., 7.]), torch.Size([7]))"
            ]
          },
          "metadata": {},
          "execution_count": 50
        }
      ],
      "source": [
        "# Create a tensor\n",
        "import torch\n",
        "x = torch.arange(1., 8.)\n",
        "x, x.shape"
      ]
    },
    {
      "cell_type": "code",
      "execution_count": 51,
      "metadata": {
        "colab": {
          "base_uri": "https://localhost:8080/"
        },
        "id": "US4WjpQ3SG-8",
        "outputId": "3567e90a-7dca-4d67-f4ae-80ad4be78897"
      },
      "outputs": [
        {
          "output_type": "execute_result",
          "data": {
            "text/plain": [
              "(tensor([[1., 2., 3., 4., 5., 6., 7.]]), torch.Size([1, 7]))"
            ]
          },
          "metadata": {},
          "execution_count": 51
        }
      ],
      "source": [
        "# Add an extra dimension\n",
        "x_reshaped = x.reshape(1, 7)\n",
        "x_reshaped, x_reshaped.shape"
      ]
    },
    {
      "cell_type": "code",
      "execution_count": 52,
      "metadata": {
        "colab": {
          "base_uri": "https://localhost:8080/"
        },
        "id": "WDN2BNe5TGfB",
        "outputId": "484d26cc-3fa6-46bb-f95f-0389aa1ea6bd"
      },
      "outputs": [
        {
          "output_type": "execute_result",
          "data": {
            "text/plain": [
              "(tensor([[1., 2., 3., 4., 5., 6., 7.]]), torch.Size([1, 7]))"
            ]
          },
          "metadata": {},
          "execution_count": 52
        }
      ],
      "source": [
        "# Change view (keeps same data as original but changes view)\n",
        "# See more: https://stackoverflow.com/a/54507446/7900723\n",
        "z = x.view(1, 7)\n",
        "z, z.shape"
      ]
    },
    {
      "cell_type": "code",
      "execution_count": 53,
      "metadata": {
        "colab": {
          "base_uri": "https://localhost:8080/"
        },
        "id": "2DxURVvXTGfC",
        "outputId": "dca62d07-a91e-4d40-f364-80e41af026a7"
      },
      "outputs": [
        {
          "output_type": "execute_result",
          "data": {
            "text/plain": [
              "(tensor([[5., 2., 3., 4., 5., 6., 7.]]), tensor([5., 2., 3., 4., 5., 6., 7.]))"
            ]
          },
          "metadata": {},
          "execution_count": 53
        }
      ],
      "source": [
        "# Changing z changes x\n",
        "z[:, 0] = 5\n",
        "z, x"
      ]
    },
    {
      "cell_type": "code",
      "execution_count": 54,
      "metadata": {
        "colab": {
          "base_uri": "https://localhost:8080/"
        },
        "id": "pX5Adf3ORiTK",
        "outputId": "f64a2878-92e9-4a7f-91d7-6e4b8f2d7c64"
      },
      "outputs": [
        {
          "output_type": "execute_result",
          "data": {
            "text/plain": [
              "tensor([[5., 2., 3., 4., 5., 6., 7.],\n",
              "        [5., 2., 3., 4., 5., 6., 7.],\n",
              "        [5., 2., 3., 4., 5., 6., 7.],\n",
              "        [5., 2., 3., 4., 5., 6., 7.]])"
            ]
          },
          "metadata": {},
          "execution_count": 54
        }
      ],
      "source": [
        "# Stack tensors on top of each other\n",
        "x_stacked = torch.stack([x, x, x, x], dim=0) # try changing dim to dim=1 and see what happens\n",
        "x_stacked"
      ]
    },
    {
      "cell_type": "code",
      "execution_count": 55,
      "metadata": {
        "colab": {
          "base_uri": "https://localhost:8080/"
        },
        "id": "w2Y2HEoDRxJZ",
        "outputId": "06dcdbff-fa09-444e-8491-44539a400241"
      },
      "outputs": [
        {
          "output_type": "stream",
          "name": "stdout",
          "text": [
            "Previous tensor: tensor([[5., 2., 3., 4., 5., 6., 7.]])\n",
            "Previous shape: torch.Size([1, 7])\n",
            "\n",
            "New tensor: tensor([5., 2., 3., 4., 5., 6., 7.])\n",
            "New shape: torch.Size([7])\n"
          ]
        }
      ],
      "source": [
        "print(f\"Previous tensor: {x_reshaped}\")\n",
        "print(f\"Previous shape: {x_reshaped.shape}\")\n",
        "\n",
        "# Remove extra dimension from x_reshaped\n",
        "x_squeezed = x_reshaped.squeeze()\n",
        "print(f\"\\nNew tensor: {x_squeezed}\")\n",
        "print(f\"New shape: {x_squeezed.shape}\")"
      ]
    },
    {
      "cell_type": "code",
      "execution_count": 56,
      "metadata": {
        "colab": {
          "base_uri": "https://localhost:8080/"
        },
        "id": "CUC-DEEwSYv7",
        "outputId": "9dc7c0b3-61cf-40a8-f7e4-706650d977c1"
      },
      "outputs": [
        {
          "output_type": "stream",
          "name": "stdout",
          "text": [
            "Previous tensor: tensor([5., 2., 3., 4., 5., 6., 7.])\n",
            "Previous shape: torch.Size([7])\n",
            "\n",
            "New tensor: tensor([[5., 2., 3., 4., 5., 6., 7.]])\n",
            "New shape: torch.Size([1, 7])\n"
          ]
        }
      ],
      "source": [
        "print(f\"Previous tensor: {x_squeezed}\")\n",
        "print(f\"Previous shape: {x_squeezed.shape}\")\n",
        "\n",
        "## Add an extra dimension with unsqueeze\n",
        "x_unsqueezed = x_squeezed.unsqueeze(dim=0)\n",
        "print(f\"\\nNew tensor: {x_unsqueezed}\")\n",
        "print(f\"New shape: {x_unsqueezed.shape}\")"
      ]
    },
    {
      "cell_type": "code",
      "execution_count": 57,
      "metadata": {
        "colab": {
          "base_uri": "https://localhost:8080/"
        },
        "id": "fCRGCX8DTGfC",
        "outputId": "91a93c23-4fce-45f7-9866-d0a1af6b8bf3"
      },
      "outputs": [
        {
          "output_type": "stream",
          "name": "stdout",
          "text": [
            "Previous shape: torch.Size([224, 224, 3])\n",
            "New shape: torch.Size([3, 224, 224])\n"
          ]
        }
      ],
      "source": [
        "# Create tensor with specific shape\n",
        "x_original = torch.rand(size=(224, 224, 3))\n",
        "\n",
        "# Permute the original tensor to rearrange the axis order\n",
        "x_permuted = x_original.permute(2, 0, 1) # shifts axis 0->1, 1->2, 2->0\n",
        "\n",
        "print(f\"Previous shape: {x_original.shape}\")\n",
        "print(f\"New shape: {x_permuted.shape}\")"
      ]
    },
    {
      "cell_type": "markdown",
      "metadata": {
        "id": "nEPqVL7fTGfC"
      },
      "source": [
        "## Indexing (selecting data from tensors)\n",
        "\n",
        "\n",
        "1. **Membuat Tensor:**\n",
        "   - `x = torch.arange(1, 10).reshape(1, 3, 3)` menciptakan tensor berukuran (1, 3, 3).\n",
        "\n",
        "2. **Indeks Nilai:**\n",
        "   - Indeks nilai dilakukan dari dimensi luar ke dalam. Misalnya, `x[0]` mengembalikan nilai dari dimensi pertama.\n",
        "   - Contoh indeks:\n",
        "     - `x[0]`: Mendapatkan nilai dari dimensi pertama.\n",
        "     - `x[0][0]`: Mendapatkan nilai dari dimensi pertama dan kedua.\n",
        "     - `x[0][0][0]`: Mendapatkan nilai dari semua dimensi.\n",
        "\n",
        "3. **Indeks dengan : (Colon):**\n",
        "   - Menggunakan `:` untuk menyatakan \"semua nilai dalam dimensi ini\" dan koma (`,`) untuk menambah dimensi.\n",
        "   - Contoh indeks:\n",
        "     - `x[:, 0]`: Mendapatkan semua nilai dari dimensi pertama dan indeks 0 dari dimensi kedua.\n",
        "     - `x[:, :, 1]`: Mendapatkan semua nilai dari dimensi pertama dan kedua, namun hanya indeks 1 dari dimensi ketiga.\n",
        "     - `x[:, 1, 1]`: Mendapatkan semua nilai dari dimensi pertama, hanya indeks 1 dari dimensi kedua, dan hanya indeks 1 dari dimensi ketiga.\n",
        "     - `x[0, 0, :]` (sama dengan `x[0][0]`): Mendapatkan indeks 0 dari dimensi pertama dan kedua, dan semua nilai dari dimensi ketiga."
      ]
    },
    {
      "cell_type": "code",
      "execution_count": 58,
      "metadata": {
        "colab": {
          "base_uri": "https://localhost:8080/"
        },
        "id": "oSXzdxCQTGfD",
        "outputId": "3687a88f-fb21-4ed3-a982-919f8ffcae50"
      },
      "outputs": [
        {
          "output_type": "execute_result",
          "data": {
            "text/plain": [
              "(tensor([[[1, 2, 3],\n",
              "          [4, 5, 6],\n",
              "          [7, 8, 9]]]),\n",
              " torch.Size([1, 3, 3]))"
            ]
          },
          "metadata": {},
          "execution_count": 58
        }
      ],
      "source": [
        "# Create a tensor\n",
        "import torch\n",
        "x = torch.arange(1, 10).reshape(1, 3, 3)\n",
        "x, x.shape"
      ]
    },
    {
      "cell_type": "code",
      "execution_count": 59,
      "metadata": {
        "colab": {
          "base_uri": "https://localhost:8080/"
        },
        "id": "zv_Z3IAzTGfD",
        "outputId": "b56c72f3-0c7d-4b53-90e9-cf17590c8abd"
      },
      "outputs": [
        {
          "output_type": "stream",
          "name": "stdout",
          "text": [
            "First square bracket:\n",
            "tensor([[1, 2, 3],\n",
            "        [4, 5, 6],\n",
            "        [7, 8, 9]])\n",
            "Second square bracket: tensor([1, 2, 3])\n",
            "Third square bracket: 1\n"
          ]
        }
      ],
      "source": [
        "# Let's index bracket by bracket\n",
        "print(f\"First square bracket:\\n{x[0]}\")\n",
        "print(f\"Second square bracket: {x[0][0]}\")\n",
        "print(f\"Third square bracket: {x[0][0][0]}\")"
      ]
    },
    {
      "cell_type": "code",
      "execution_count": 60,
      "metadata": {
        "colab": {
          "base_uri": "https://localhost:8080/"
        },
        "id": "gCT09pqeTGfD",
        "outputId": "b2994a08-426c-43dc-a5db-e25dbed3c3b6"
      },
      "outputs": [
        {
          "output_type": "execute_result",
          "data": {
            "text/plain": [
              "tensor([[1, 2, 3]])"
            ]
          },
          "metadata": {},
          "execution_count": 60
        }
      ],
      "source": [
        "# Get all values of 0th dimension and the 0 index of 1st dimension\n",
        "x[:, 0]"
      ]
    },
    {
      "cell_type": "code",
      "execution_count": 61,
      "metadata": {
        "colab": {
          "base_uri": "https://localhost:8080/"
        },
        "id": "dwDx_gMsTGfD",
        "outputId": "33cc0bbe-b0d7-47ca-d444-9887583ad237"
      },
      "outputs": [
        {
          "output_type": "execute_result",
          "data": {
            "text/plain": [
              "tensor([[2, 5, 8]])"
            ]
          },
          "metadata": {},
          "execution_count": 61
        }
      ],
      "source": [
        "# Get all values of 0th & 1st dimensions but only index 1 of 2nd dimension\n",
        "x[:, :, 1]"
      ]
    },
    {
      "cell_type": "code",
      "execution_count": 62,
      "metadata": {
        "colab": {
          "base_uri": "https://localhost:8080/"
        },
        "id": "xiw3_1E3TGfD",
        "outputId": "82f6a740-edc5-47dc-93bf-7b219d55022b"
      },
      "outputs": [
        {
          "output_type": "execute_result",
          "data": {
            "text/plain": [
              "tensor([5])"
            ]
          },
          "metadata": {},
          "execution_count": 62
        }
      ],
      "source": [
        "# Get all values of the 0 dimension but only the 1 index value of the 1st and 2nd dimension\n",
        "x[:, 1, 1]"
      ]
    },
    {
      "cell_type": "code",
      "execution_count": 63,
      "metadata": {
        "colab": {
          "base_uri": "https://localhost:8080/"
        },
        "id": "XFVEgrKhTGfD",
        "outputId": "346c79bf-acb2-4412-c58d-33bac68a3cc3"
      },
      "outputs": [
        {
          "output_type": "execute_result",
          "data": {
            "text/plain": [
              "tensor([1, 2, 3])"
            ]
          },
          "metadata": {},
          "execution_count": 63
        }
      ],
      "source": [
        "# Get index 0 of 0th and 1st dimension and all values of 2nd dimension\n",
        "x[0, 0, :] # same as x[0][0]"
      ]
    },
    {
      "cell_type": "markdown",
      "metadata": {
        "id": "h8ZaW0Bq7rCm"
      },
      "source": [
        "## PyTorch tensors & NumPy\n",
        "\n",
        "1. **NumPy ke PyTorch:**\n",
        "   - `torch.from_numpy(ndarray)` digunakan untuk mengonversi NumPy array menjadi PyTorch tensor.\n",
        "   - Misalnya, `array = np.arange(1.0, 8.0)` akan diubah menjadi tensor PyTorch dengan menggunakan `torch.from_numpy(array)`.\n",
        "\n",
        "2. **Perhatian pada Tipe Data:**\n",
        "   - Default NumPy array memiliki tipe data float64. Jika ingin mengonversi ke tensor PyTorch dengan tipe data float32, gunakan `.type(torch.float32)` setelah `torch.from_numpy(array)`.\n",
        "\n",
        "3. **Perubahan Tensor vs. Array:**\n",
        "   - Jika tensor diubah setelah pengonversian, array asli tetap tidak berubah.\n",
        "   - Contoh: `array = array + 1` tidak mempengaruhi tensor yang telah dibuat.\n",
        "\n",
        "4. **PyTorch ke NumPy:**\n",
        "   - `tensor.numpy()` digunakan untuk mengonversi tensor PyTorch menjadi NumPy array.\n",
        "   - Misalnya, `tensor = torch.ones(7)` akan diubah menjadi NumPy array menggunakan `tensor.numpy()`.\n",
        "\n",
        "5. **Perubahan Tensor vs. Array (lagi):**\n",
        "   - Seperti sebelumnya, jika tensor diubah, array NumPy yang baru tetap tidak berubah.\n",
        "   - Contoh: `tensor = tensor + 1` tidak mempengaruhi numpy_tensor yang telah dibuat.\n",
        "\n",
        "Dengan menggunakan fungsi-fungsi ini, maka dapat dengan mudah berpindah antara NumPy dan PyTorch sesuai dengan kebutuhan."
      ]
    },
    {
      "cell_type": "code",
      "execution_count": 64,
      "metadata": {
        "colab": {
          "base_uri": "https://localhost:8080/"
        },
        "id": "yDrDCnvY7rKS",
        "outputId": "6e21ff33-3c04-4217-e336-f8b4bf9ea16d"
      },
      "outputs": [
        {
          "output_type": "execute_result",
          "data": {
            "text/plain": [
              "(array([1., 2., 3., 4., 5., 6., 7.]),\n",
              " tensor([1., 2., 3., 4., 5., 6., 7.], dtype=torch.float64))"
            ]
          },
          "metadata": {},
          "execution_count": 64
        }
      ],
      "source": [
        "# NumPy array to tensor\n",
        "import torch\n",
        "import numpy as np\n",
        "array = np.arange(1.0, 8.0)\n",
        "tensor = torch.from_numpy(array)\n",
        "array, tensor"
      ]
    },
    {
      "cell_type": "code",
      "execution_count": 65,
      "metadata": {
        "colab": {
          "base_uri": "https://localhost:8080/"
        },
        "id": "ovwl7VCREv8L",
        "outputId": "6cc14c8b-2c4c-4527-ee32-34517f7aa85e"
      },
      "outputs": [
        {
          "output_type": "execute_result",
          "data": {
            "text/plain": [
              "(array([2., 3., 4., 5., 6., 7., 8.]),\n",
              " tensor([1., 2., 3., 4., 5., 6., 7.], dtype=torch.float64))"
            ]
          },
          "metadata": {},
          "execution_count": 65
        }
      ],
      "source": [
        "# Change the array, keep the tensor\n",
        "array = array + 1\n",
        "array, tensor"
      ]
    },
    {
      "cell_type": "code",
      "execution_count": 66,
      "metadata": {
        "colab": {
          "base_uri": "https://localhost:8080/"
        },
        "id": "xw_7ZyVaTKxQ",
        "outputId": "35cc7113-5190-45db-9dd9-48cb18de99a0"
      },
      "outputs": [
        {
          "output_type": "execute_result",
          "data": {
            "text/plain": [
              "(tensor([1., 1., 1., 1., 1., 1., 1.]),\n",
              " array([1., 1., 1., 1., 1., 1., 1.], dtype=float32))"
            ]
          },
          "metadata": {},
          "execution_count": 66
        }
      ],
      "source": [
        "# Tensor to NumPy array\n",
        "tensor = torch.ones(7) # create a tensor of ones with dtype=float32\n",
        "numpy_tensor = tensor.numpy() # will be dtype=float32 unless changed\n",
        "tensor, numpy_tensor"
      ]
    },
    {
      "cell_type": "code",
      "execution_count": 67,
      "metadata": {
        "colab": {
          "base_uri": "https://localhost:8080/"
        },
        "id": "mMp6ZSkET4_Y",
        "outputId": "8daf1d03-aa32-4b6b-dcca-f1ac5a65cdab"
      },
      "outputs": [
        {
          "output_type": "execute_result",
          "data": {
            "text/plain": [
              "(tensor([2., 2., 2., 2., 2., 2., 2.]),\n",
              " array([1., 1., 1., 1., 1., 1., 1.], dtype=float32))"
            ]
          },
          "metadata": {},
          "execution_count": 67
        }
      ],
      "source": [
        "# Change the tensor, keep the array the same\n",
        "tensor = tensor + 1\n",
        "tensor, numpy_tensor"
      ]
    },
    {
      "cell_type": "markdown",
      "metadata": {
        "id": "7gU3ubCrUkI-"
      },
      "source": [
        "## Reproducibility (trying to take the random out of random)\n",
        "\n",
        "1. **Pseudorandomness dalam Komputasi:**\n",
        "   - Pseudorandomness merujuk pada penggunaan algoritma untuk menciptakan rangkaian angka yang terlihat acak tetapi sebenarnya dapat diprediksi karena sifat deterministik komputer. Meskipun terdapat perdebatan, komputer pada dasarnya bersifat deterministik.\n",
        "\n",
        "2. **Peran Pseudorandomness dalam Neural Networks:**\n",
        "   - Neural networks menggunakan angka acak (pseudorandom) sebagai awal untuk menggambarkan pola dalam data. Tujuan utamanya adalah untuk meningkatkan angka-angka acak ini melalui operasi tensor untuk lebih baik menggambarkan pola dalam data.\n",
        "\n",
        "3. **Reproducibility dalam Machine Learning:**\n",
        "   - Reproducibility mengacu pada kemampuan untuk mendapatkan hasil yang sama atau sangat mirip saat menjalankan suatu kode pada komputer yang berbeda. Ini penting untuk eksperimen yang dapat diulang dan verifikasi oleh orang lain.\n",
        "\n",
        "4. **Contoh Penerapan Reproducibility dengan PyTorch:**\n",
        "   - Dua tensor acak (`random_tensor_A` dan `random_tensor_B`) dibuat tanpa pengaturan seed, sehingga nilai-nilainya berbeda.\n",
        "   - Dengan menetapkan seed menggunakan `torch.manual_seed(seed)`, kita dapat membuat dua tensor acak (`random_tensor_C` dan `random_tensor_D`) yang memiliki nilai yang sama.\n",
        "   - Menggunakan seed memungkinkan kita untuk memiliki tingkat kontrol dan konsistensi dalam eksperimen dan pengujian.\n",
        "\n",
        "5. **Implementasi Reproducibility dengan PyTorch:**\n",
        "   - `torch.manual_seed(seed=RANDOM_SEED)` digunakan untuk mengatur seed pada tensor acak.\n",
        "   - Setelah menetapkan seed, penggunaan `torch.rand(3, 4)` akan menghasilkan tensor dengan nilai yang konsisten.\n",
        "   - Penting untuk me-reset seed setiap kali fungsi `rand()` baru dipanggil untuk memastikan konsistensi."
      ]
    },
    {
      "cell_type": "code",
      "execution_count": 68,
      "metadata": {
        "colab": {
          "base_uri": "https://localhost:8080/"
        },
        "id": "eSwxnwEbTGfF",
        "outputId": "232f4e5f-9a9f-4941-f068-e069616098b5"
      },
      "outputs": [
        {
          "output_type": "stream",
          "name": "stdout",
          "text": [
            "Tensor A:\n",
            "tensor([[0.8016, 0.3649, 0.6286, 0.9663],\n",
            "        [0.7687, 0.4566, 0.5745, 0.9200],\n",
            "        [0.3230, 0.8613, 0.0919, 0.3102]])\n",
            "\n",
            "Tensor B:\n",
            "tensor([[0.9536, 0.6002, 0.0351, 0.6826],\n",
            "        [0.3743, 0.5220, 0.1336, 0.9666],\n",
            "        [0.9754, 0.8474, 0.8988, 0.1105]])\n",
            "\n",
            "Does Tensor A equal Tensor B? (anywhere)\n"
          ]
        },
        {
          "output_type": "execute_result",
          "data": {
            "text/plain": [
              "tensor([[False, False, False, False],\n",
              "        [False, False, False, False],\n",
              "        [False, False, False, False]])"
            ]
          },
          "metadata": {},
          "execution_count": 68
        }
      ],
      "source": [
        "import torch\n",
        "\n",
        "# Create two random tensors\n",
        "random_tensor_A = torch.rand(3, 4)\n",
        "random_tensor_B = torch.rand(3, 4)\n",
        "\n",
        "print(f\"Tensor A:\\n{random_tensor_A}\\n\")\n",
        "print(f\"Tensor B:\\n{random_tensor_B}\\n\")\n",
        "print(f\"Does Tensor A equal Tensor B? (anywhere)\")\n",
        "random_tensor_A == random_tensor_B"
      ]
    },
    {
      "cell_type": "code",
      "execution_count": 69,
      "metadata": {
        "colab": {
          "base_uri": "https://localhost:8080/"
        },
        "id": "sB6d1GfYTGfF",
        "outputId": "981fd1a5-3097-4b30-c120-20881cac564b"
      },
      "outputs": [
        {
          "output_type": "stream",
          "name": "stdout",
          "text": [
            "Tensor C:\n",
            "tensor([[0.8823, 0.9150, 0.3829, 0.9593],\n",
            "        [0.3904, 0.6009, 0.2566, 0.7936],\n",
            "        [0.9408, 0.1332, 0.9346, 0.5936]])\n",
            "\n",
            "Tensor D:\n",
            "tensor([[0.8823, 0.9150, 0.3829, 0.9593],\n",
            "        [0.3904, 0.6009, 0.2566, 0.7936],\n",
            "        [0.9408, 0.1332, 0.9346, 0.5936]])\n",
            "\n",
            "Does Tensor C equal Tensor D? (anywhere)\n"
          ]
        },
        {
          "output_type": "execute_result",
          "data": {
            "text/plain": [
              "tensor([[True, True, True, True],\n",
              "        [True, True, True, True],\n",
              "        [True, True, True, True]])"
            ]
          },
          "metadata": {},
          "execution_count": 69
        }
      ],
      "source": [
        "import torch\n",
        "import random\n",
        "\n",
        "# # Set the random seed\n",
        "RANDOM_SEED=42 # try changing this to different values and see what happens to the numbers below\n",
        "torch.manual_seed(seed=RANDOM_SEED)\n",
        "random_tensor_C = torch.rand(3, 4)\n",
        "\n",
        "# Have to reset the seed every time a new rand() is called\n",
        "# Without this, tensor_D would be different to tensor_C\n",
        "torch.random.manual_seed(seed=RANDOM_SEED) # try commenting this line out and seeing what happens\n",
        "random_tensor_D = torch.rand(3, 4)\n",
        "\n",
        "print(f\"Tensor C:\\n{random_tensor_C}\\n\")\n",
        "print(f\"Tensor D:\\n{random_tensor_D}\\n\")\n",
        "print(f\"Does Tensor C equal Tensor D? (anywhere)\")\n",
        "random_tensor_C == random_tensor_D"
      ]
    },
    {
      "cell_type": "markdown",
      "metadata": {
        "id": "hxIIM7t27rQ-"
      },
      "source": [
        "## Running tensors on GPUs (and making faster computations)\n",
        "\n",
        "Algoritma deep learning memerlukan banyak operasi numerik. Secara default, operasi-operasi ini sering dilakukan pada CPU (unit pemrosesan komputer). Namun, terdapat sebuah perangkat keras umum yang disebut GPU (unit pemrosesan grafis), yang seringkali jauh lebih cepat dalam melakukan jenis operasi tertentu yang dibutuhkan oleh neural networks (seperti perkalian matriks) dibandingkan dengan CPU.\n",
        "\n",
        "Terdapat beberapa cara untuk mendapatkan akses ke GPU."
      ]
    },
    {
      "cell_type": "markdown",
      "metadata": {
        "id": "0UiR6QpoYQH_"
      },
      "source": [
        "\n",
        "### 1. Getting a GPU\n",
        "\n",
        "Berikut adalah beberapa cara untuk mendapatkan akses ke GPU dan keuntungan serta kerugiannya:\n",
        "\n",
        "| **Metode** | **Kesulitan Setup** | **Pro** | **Kontra** | **Cara Setup** |\n",
        "| ----- | ----- | ----- | ----- | ----- |\n",
        "| Google Colab | Mudah | Gratis digunakan, hampir tidak memerlukan setup, dapat berbagi pekerjaan dengan orang lain hanya dengan tautan | Tidak menyimpan output data, komputasi terbatas, rentan terhadap batas waktu | [Ikuti Panduan Google Colab](https://colab.research.google.com/notebooks/gpu.ipynb) |\n",
        "| Gunakan milik pribadi | Sedang | Jalankan semuanya secara lokal di komputer sendiri | GPU tidak gratis, memerlukan biaya awal | Ikuti [Pedoman Instalasi PyTorch](https://pytorch.org/get-started/locally/) |\n",
        "| Komputasi awan (AWS, GCP, Azure) | Sedang-Sulit | Biaya awal kecil, akses ke komputasi yang hampir tak terbatas | Dapat mahal jika berjalan terus menerus, memerlukan waktu untuk mengatur dengan benar | Ikuti [Pedoman Instalasi PyTorch](https://pytorch.org/get-started/cloud-partners/) |\n",
        "\n",
        "\n",
        "Untuk memeriksa apakah memiliki akses ke GPU Nvidia dapat menjalankan `!nvidia-smi` di mana `!` (juga disebut dengan \"bang\") berarti \"jalankan ini di baris perintah\"."
      ]
    },
    {
      "cell_type": "code",
      "execution_count": 70,
      "metadata": {
        "colab": {
          "base_uri": "https://localhost:8080/"
        },
        "id": "vEMcO-9zYc-w",
        "outputId": "22f61aaf-1ef3-43bd-e61e-c92a10ac8df7"
      },
      "outputs": [
        {
          "output_type": "stream",
          "name": "stdout",
          "text": [
            "Wed Jan  3 20:57:26 2024       \n",
            "+---------------------------------------------------------------------------------------+\n",
            "| NVIDIA-SMI 535.104.05             Driver Version: 535.104.05   CUDA Version: 12.2     |\n",
            "|-----------------------------------------+----------------------+----------------------+\n",
            "| GPU  Name                 Persistence-M | Bus-Id        Disp.A | Volatile Uncorr. ECC |\n",
            "| Fan  Temp   Perf          Pwr:Usage/Cap |         Memory-Usage | GPU-Util  Compute M. |\n",
            "|                                         |                      |               MIG M. |\n",
            "|=========================================+======================+======================|\n",
            "|   0  Tesla T4                       Off | 00000000:00:04.0 Off |                    0 |\n",
            "| N/A   42C    P8              10W /  70W |      0MiB / 15360MiB |      0%      Default |\n",
            "|                                         |                      |                  N/A |\n",
            "+-----------------------------------------+----------------------+----------------------+\n",
            "                                                                                         \n",
            "+---------------------------------------------------------------------------------------+\n",
            "| Processes:                                                                            |\n",
            "|  GPU   GI   CI        PID   Type   Process name                            GPU Memory |\n",
            "|        ID   ID                                                             Usage      |\n",
            "|=======================================================================================|\n",
            "|  No running processes found                                                           |\n",
            "+---------------------------------------------------------------------------------------+\n"
          ]
        }
      ],
      "source": [
        "!nvidia-smi"
      ]
    },
    {
      "cell_type": "markdown",
      "metadata": {
        "id": "HvkB9p5zYf8E"
      },
      "source": [
        "Jika tidak memiliki akses ke GPU Nvidia, output di atas akan menampilkan sesuatu seperti:\n",
        "\n",
        "```\n",
        "NVIDIA-SMI has failed because it couldn't communicate with the NVIDIA driver. Make sure that the latest NVIDIA driver is installed and running.\n",
        "```\n",
        "\n",
        "Dalam hal ini, kembali dan ikuti langkah-langkah instalasi.\n",
        "\n",
        "Jika memiliki GPU, baris di atas akan menampilkan sesuatu seperti:\n",
        "\n",
        "```\n",
        "Wed Jan 19 22:09:08 2022       \n",
        "+-----------------------------------------------------------------------------+\n",
        "| NVIDIA-SMI 495.46       Driver Version: 460.32.03    CUDA Version: 11.2     |\n",
        "|-------------------------------+----------------------+----------------------+\n",
        "| GPU  Name        Persistence-M| Bus-Id        Disp.A | Volatile Uncorr. ECC |\n",
        "| Fan  Temp  Perf  Pwr:Usage/Cap|         Memory-Usage | GPU-Util  Compute M. |\n",
        "|                               |                      |               MIG M. |\n",
        "|===============================+======================+======================|\n",
        "|   0  Tesla P100-PCIE...  Off  | 00000000:00:04.0 Off |                    0 |\n",
        "| N/A   35C    P0    27W / 250W |      0MiB / 16280MiB |      0%      Default |\n",
        "|                               |                      |                  N/A |\n",
        "+-------------------------------+----------------------+----------------------+\n",
        "                                                                               \n",
        "+-----------------------------------------------------------------------------+\n",
        "| Processes:                                                                  |\n",
        "|  GPU   GI   CI        PID   Type   Process name                  GPU Memory |\n",
        "|        ID   ID                                                   Usage      |\n",
        "|=============================================================================|\n",
        "|  No running processes found                                                 |\n",
        "+-----------------------------------------------------------------------------+\n",
        "```"
      ]
    },
    {
      "cell_type": "markdown",
      "metadata": {
        "id": "UvibZ6e0YcDk"
      },
      "source": [
        "\n",
        "\n",
        "### 2. Getting PyTorch to run on the GPU\n",
        "\n",
        "1. **Cek Ketersediaan GPU:**\n",
        "   - Gunakan `torch.cuda.is_available()` untuk memeriksa apakah PyTorch dapat melihat dan menggunakan GPU.\n",
        "   - Jika outputnya True, PyTorch dapat menggunakan GPU; jika False, perlu melalui langkah instalasi lagi.\n",
        "\n",
        "2. **Menetapkan Jenis Perangkat:**\n",
        "   - Tetapkan variabel `device` sebagai \"cuda\" jika GPU tersedia, dan \"cpu\" jika tidak.\n",
        "   - Hal tersebut memungkinkan kode dapat berjalan baik pada CPU maupun GPU.\n",
        "\n",
        "3. **Mengetahui Jumlah GPU:**\n",
        "   - Gunakan `torch.cuda.device_count()` untuk menghitung jumlah GPU yang dapat diakses oleh PyTorch.\n",
        "   - Informasi ini berguna jika ingin menjalankan suatu proses pada satu GPU tertentu atau menggunakan semua GPU.\n",
        "\n",
        "Pastikan untuk menulis kode PyTorch yang bersifat agnostik perangkat, artinya dapat berjalan pada CPU atau GPU. Jika kecepatan komputasi yang lebih tinggi diperlukan, maka dapat menggunakan GPU, dan untuk kecepatan komputasi yang jauh lebih tinggi, maka dapat menggunakan beberapa GPU.\n"
      ]
    },
    {
      "cell_type": "code",
      "execution_count": 71,
      "metadata": {
        "colab": {
          "base_uri": "https://localhost:8080/"
        },
        "id": "OweDLgwjEvZ2",
        "outputId": "0a835a94-0473-4cf9-90e4-6c2a92960422"
      },
      "outputs": [
        {
          "output_type": "execute_result",
          "data": {
            "text/plain": [
              "True"
            ]
          },
          "metadata": {},
          "execution_count": 71
        }
      ],
      "source": [
        "# Check for GPU\n",
        "import torch\n",
        "torch.cuda.is_available()"
      ]
    },
    {
      "cell_type": "code",
      "execution_count": 72,
      "metadata": {
        "colab": {
          "base_uri": "https://localhost:8080/",
          "height": 36
        },
        "id": "j92HBCKB7rYa",
        "outputId": "8fe2660d-8b9e-4660-ffaa-31e33fcaffd2"
      },
      "outputs": [
        {
          "output_type": "execute_result",
          "data": {
            "text/plain": [
              "'cuda'"
            ],
            "application/vnd.google.colaboratory.intrinsic+json": {
              "type": "string"
            }
          },
          "metadata": {},
          "execution_count": 72
        }
      ],
      "source": [
        "# Set device type\n",
        "device = \"cuda\" if torch.cuda.is_available() else \"cpu\"\n",
        "device"
      ]
    },
    {
      "cell_type": "code",
      "execution_count": 73,
      "metadata": {
        "colab": {
          "base_uri": "https://localhost:8080/"
        },
        "id": "MArsn0DFTGfG",
        "outputId": "18ad87fc-a038-4ee6-d4a1-9c188cc2ecf9"
      },
      "outputs": [
        {
          "output_type": "execute_result",
          "data": {
            "text/plain": [
              "1"
            ]
          },
          "metadata": {},
          "execution_count": 73
        }
      ],
      "source": [
        "# Count number of devices\n",
        "torch.cuda.device_count()"
      ]
    },
    {
      "cell_type": "markdown",
      "metadata": {
        "id": "XqQLcuj68OA-"
      },
      "source": [
        "### 3. Putting tensors (and models) on the GPU\n",
        "\n",
        "1. **Pemindahan Tensor ke Perangkat Tertentu:**\n",
        "   - Gunakan `to(device)` pada tensor atau model untuk memindahkannya ke perangkat tertentu.\n",
        "   - Keuntungan: GPU menawarkan komputasi numerik yang jauh lebih cepat daripada CPU.\n",
        "   - Jika GPU tidak tersedia, kode yang agnostik perangkat akan tetap berjalan di CPU.\n",
        "\n",
        "2. **Catatan Penting:**\n",
        "   - Memindahkan tensor ke GPU dengan `to(device)` mengembalikan salinan tensor, sehingga tensor asli tetap ada di CPU.\n",
        "   - Untuk menimpa tensor, perlu menetapkan ulang tensor tersebut, misalnya: `some_tensor = some_tensor.to(device)`.\n",
        "\n",
        "3. **Contoh Penerapan:**\n",
        "   - Buat tensor default pada CPU: `tensor = torch.tensor([1, 2, 3])`.\n",
        "   - Cek perangkat tensor: `print(tensor, tensor.device)`.\n",
        "   - Pindahkan tensor ke GPU jika tersedia: `tensor_on_gpu = tensor.to(device)`.\n",
        "\n",
        "Jika GPU tersedia, tensor kedua akan memiliki perangkat 'cuda:0', menandakan bahwa tensor tersebut disimpan di GPU 0 (indeks GPU dimulai dari 0)."
      ]
    },
    {
      "cell_type": "code",
      "execution_count": 74,
      "metadata": {
        "colab": {
          "base_uri": "https://localhost:8080/"
        },
        "id": "FhI3srFXEHfP",
        "outputId": "9fbe3cb9-9e7f-4517-b2fd-2809aa382686"
      },
      "outputs": [
        {
          "output_type": "stream",
          "name": "stdout",
          "text": [
            "tensor([1, 2, 3]) cpu\n"
          ]
        },
        {
          "output_type": "execute_result",
          "data": {
            "text/plain": [
              "tensor([1, 2, 3], device='cuda:0')"
            ]
          },
          "metadata": {},
          "execution_count": 74
        }
      ],
      "source": [
        "# Create tensor (default on CPU)\n",
        "tensor = torch.tensor([1, 2, 3])\n",
        "\n",
        "# Tensor not on GPU\n",
        "print(tensor, tensor.device)\n",
        "\n",
        "# Move tensor to GPU (if available)\n",
        "tensor_on_gpu = tensor.to(device)\n",
        "tensor_on_gpu"
      ]
    },
    {
      "cell_type": "markdown",
      "metadata": {
        "id": "4puyUX4Bci5D"
      },
      "source": [
        "### 4. Moving tensors back to the CPU\n",
        "\n",
        "1. **Pengembalian Tensor ke CPU:**\n",
        "   - Jika ingin berinteraksi dengan tensor menggunakan NumPy (karena NumPy tidak menggunakan GPU), perlu memindahkan tensor dari GPU ke CPU.\n",
        "   - Metode `Tensor.cpu()` digunakan untuk mengembalikan tensor ke memori CPU.\n",
        "\n",
        "2. **Contoh Penerapan:**\n",
        "   - Menggunakan `torch.Tensor.numpy()` pada tensor_on_gpu akan menghasilkan error jika tensor berada di GPU.\n",
        "   - Untuk mengembalikan tensor ke CPU, gunakan `tensor_on_gpu.cpu().numpy()`.\n",
        "\n",
        "3. **Hasil:**\n",
        "   - Hasil dari `tensor_on_gpu.cpu().numpy()` adalah salinan tensor yang awalnya ada di GPU, dan tensor asli masih tetap berada di GPU."
      ]
    },
    {
      "cell_type": "code",
      "execution_count": 75,
      "metadata": {
        "colab": {
          "base_uri": "https://localhost:8080/",
          "height": 192
        },
        "id": "3ChSLJgPTGfG",
        "outputId": "8a1f8197-3437-4563-e649-ecd692357f07"
      },
      "outputs": [
        {
          "output_type": "error",
          "ename": "TypeError",
          "evalue": "ignored",
          "traceback": [
            "\u001b[0;31m---------------------------------------------------------------------------\u001b[0m",
            "\u001b[0;31mTypeError\u001b[0m                                 Traceback (most recent call last)",
            "\u001b[0;32m<ipython-input-75-53175578f49e>\u001b[0m in \u001b[0;36m<cell line: 2>\u001b[0;34m()\u001b[0m\n\u001b[1;32m      1\u001b[0m \u001b[0;31m# If tensor is on GPU, can't transform it to NumPy (this will error)\u001b[0m\u001b[0;34m\u001b[0m\u001b[0;34m\u001b[0m\u001b[0m\n\u001b[0;32m----> 2\u001b[0;31m \u001b[0mtensor_on_gpu\u001b[0m\u001b[0;34m.\u001b[0m\u001b[0mnumpy\u001b[0m\u001b[0;34m(\u001b[0m\u001b[0;34m)\u001b[0m\u001b[0;34m\u001b[0m\u001b[0;34m\u001b[0m\u001b[0m\n\u001b[0m",
            "\u001b[0;31mTypeError\u001b[0m: can't convert cuda:0 device type tensor to numpy. Use Tensor.cpu() to copy the tensor to host memory first."
          ]
        }
      ],
      "source": [
        "# If tensor is on GPU, can't transform it to NumPy (this will error)\n",
        "tensor_on_gpu.numpy()"
      ]
    },
    {
      "cell_type": "code",
      "execution_count": 76,
      "metadata": {
        "colab": {
          "base_uri": "https://localhost:8080/"
        },
        "id": "gN15s-NdTGfG",
        "outputId": "16809008-4d5b-4ca9-ff7d-e3d11cb19129"
      },
      "outputs": [
        {
          "output_type": "execute_result",
          "data": {
            "text/plain": [
              "array([1, 2, 3])"
            ]
          },
          "metadata": {},
          "execution_count": 76
        }
      ],
      "source": [
        "# Instead, copy the tensor back to cpu\n",
        "tensor_back_on_cpu = tensor_on_gpu.cpu().numpy()\n",
        "tensor_back_on_cpu"
      ]
    },
    {
      "cell_type": "code",
      "execution_count": 77,
      "metadata": {
        "colab": {
          "base_uri": "https://localhost:8080/"
        },
        "id": "S5u83PCRTGfH",
        "outputId": "6a557373-4353-4df8-cd53-ed28434249f3"
      },
      "outputs": [
        {
          "output_type": "execute_result",
          "data": {
            "text/plain": [
              "tensor([1, 2, 3], device='cuda:0')"
            ]
          },
          "metadata": {},
          "execution_count": 77
        }
      ],
      "source": [
        "tensor_on_gpu"
      ]
    }
  ],
  "metadata": {
    "accelerator": "GPU",
    "colab": {
      "provenance": [],
      "include_colab_link": true
    },
    "interpreter": {
      "hash": "3fbe1355223f7b2ffc113ba3ade6a2b520cadace5d5ec3e828c83ce02eb221bf"
    },
    "kernelspec": {
      "display_name": "Python 3 (ipykernel)",
      "language": "python",
      "name": "python3"
    },
    "language_info": {
      "codemirror_mode": {
        "name": "ipython",
        "version": 3
      },
      "file_extension": ".py",
      "mimetype": "text/x-python",
      "name": "python",
      "nbconvert_exporter": "python",
      "pygments_lexer": "ipython3",
      "version": "3.8.13"
    }
  },
  "nbformat": 4,
  "nbformat_minor": 0
}