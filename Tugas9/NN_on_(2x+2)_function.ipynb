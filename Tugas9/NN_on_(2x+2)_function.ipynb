{
  "nbformat": 4,
  "nbformat_minor": 0,
  "metadata": {
    "colab": {
      "provenance": [],
      "include_colab_link": true
    },
    "kernelspec": {
      "name": "python3",
      "display_name": "Python 3"
    },
    "language_info": {
      "name": "python"
    }
  },
  "cells": [
    {
      "cell_type": "markdown",
      "metadata": {
        "id": "view-in-github",
        "colab_type": "text"
      },
      "source": [
        "<a href=\"https://colab.research.google.com/github/Tikakiku/MachineLearningTasks/blob/main/Tugas9/NN_on_(2x%2B2)_function.ipynb\" target=\"_parent\"><img src=\"https://colab.research.google.com/assets/colab-badge.svg\" alt=\"Open In Colab\"/></a>"
      ]
    },
    {
      "cell_type": "code",
      "source": [
        "# Nama : Ratika Dwi Anggraini\n",
        "# Kelas : TK4406\n",
        "# NIM : 1103201250"
      ],
      "metadata": {
        "id": "cvNYYgNvq_ZD"
      },
      "execution_count": 1,
      "outputs": []
    },
    {
      "cell_type": "code",
      "execution_count": 2,
      "metadata": {
        "id": "uU9Yhf4IpZKR"
      },
      "outputs": [],
      "source": [
        "import numpy as np\n",
        "\n",
        "xs = np.array([1.0, 2.0, 3.0, 4.0, 5.0, 6.0], dtype=float)\n",
        "ys = np.array([4.0, 6.0, 8.0, 10.0, 12.0, 14.0], dtype=float)"
      ]
    },
    {
      "cell_type": "code",
      "source": [
        "import tensorflow as tf\n",
        "from tensorflow import keras\n",
        "\n",
        "model_1_layer = tf.keras.Sequential([keras.layers.Dense(units=1, input_shape=[1])])\n",
        "model_1_layer.compile(optimizer='sgd', loss='mean_squared_error')\n",
        "model_1_layer.fit(xs, ys, epochs=50)\n"
      ],
      "metadata": {
        "colab": {
          "base_uri": "https://localhost:8080/"
        },
        "id": "UsdvbF3Gpeol",
        "outputId": "6c92af5e-0370-4a9c-b6d5-b3b833b052e0"
      },
      "execution_count": 3,
      "outputs": [
        {
          "output_type": "stream",
          "name": "stdout",
          "text": [
            "Epoch 1/50\n",
            "1/1 [==============================] - 1s 609ms/step - loss: 59.6205\n",
            "Epoch 2/50\n",
            "1/1 [==============================] - 0s 18ms/step - loss: 27.8431\n",
            "Epoch 3/50\n",
            "1/1 [==============================] - 0s 15ms/step - loss: 13.1337\n",
            "Epoch 4/50\n",
            "1/1 [==============================] - 0s 10ms/step - loss: 6.3240\n",
            "Epoch 5/50\n",
            "1/1 [==============================] - 0s 9ms/step - loss: 3.1704\n",
            "Epoch 6/50\n",
            "1/1 [==============================] - 0s 24ms/step - loss: 1.7091\n",
            "Epoch 7/50\n",
            "1/1 [==============================] - 0s 15ms/step - loss: 1.0310\n",
            "Epoch 8/50\n",
            "1/1 [==============================] - 0s 23ms/step - loss: 0.7154\n",
            "Epoch 9/50\n",
            "1/1 [==============================] - 0s 17ms/step - loss: 0.5676\n",
            "Epoch 10/50\n",
            "1/1 [==============================] - 0s 14ms/step - loss: 0.4975\n",
            "Epoch 11/50\n",
            "1/1 [==============================] - 0s 13ms/step - loss: 0.4633\n",
            "Epoch 12/50\n",
            "1/1 [==============================] - 0s 23ms/step - loss: 0.4458\n",
            "Epoch 13/50\n",
            "1/1 [==============================] - 0s 13ms/step - loss: 0.4360\n",
            "Epoch 14/50\n",
            "1/1 [==============================] - 0s 18ms/step - loss: 0.4298\n",
            "Epoch 15/50\n",
            "1/1 [==============================] - 0s 13ms/step - loss: 0.4253\n",
            "Epoch 16/50\n",
            "1/1 [==============================] - 0s 12ms/step - loss: 0.4215\n",
            "Epoch 17/50\n",
            "1/1 [==============================] - 0s 13ms/step - loss: 0.4182\n",
            "Epoch 18/50\n",
            "1/1 [==============================] - 0s 15ms/step - loss: 0.4150\n",
            "Epoch 19/50\n",
            "1/1 [==============================] - 0s 12ms/step - loss: 0.4119\n",
            "Epoch 20/50\n",
            "1/1 [==============================] - 0s 14ms/step - loss: 0.4089\n",
            "Epoch 21/50\n",
            "1/1 [==============================] - 0s 10ms/step - loss: 0.4059\n",
            "Epoch 22/50\n",
            "1/1 [==============================] - 0s 25ms/step - loss: 0.4029\n",
            "Epoch 23/50\n",
            "1/1 [==============================] - 0s 13ms/step - loss: 0.4000\n",
            "Epoch 24/50\n",
            "1/1 [==============================] - 0s 6ms/step - loss: 0.3970\n",
            "Epoch 25/50\n",
            "1/1 [==============================] - 0s 17ms/step - loss: 0.3941\n",
            "Epoch 26/50\n",
            "1/1 [==============================] - 0s 7ms/step - loss: 0.3913\n",
            "Epoch 27/50\n",
            "1/1 [==============================] - 0s 17ms/step - loss: 0.3884\n",
            "Epoch 28/50\n",
            "1/1 [==============================] - 0s 6ms/step - loss: 0.3856\n",
            "Epoch 29/50\n",
            "1/1 [==============================] - 0s 19ms/step - loss: 0.3828\n",
            "Epoch 30/50\n",
            "1/1 [==============================] - 0s 20ms/step - loss: 0.3800\n",
            "Epoch 31/50\n",
            "1/1 [==============================] - 0s 10ms/step - loss: 0.3772\n",
            "Epoch 32/50\n",
            "1/1 [==============================] - 0s 21ms/step - loss: 0.3745\n",
            "Epoch 33/50\n",
            "1/1 [==============================] - 0s 7ms/step - loss: 0.3718\n",
            "Epoch 34/50\n",
            "1/1 [==============================] - 0s 12ms/step - loss: 0.3690\n",
            "Epoch 35/50\n",
            "1/1 [==============================] - 0s 20ms/step - loss: 0.3664\n",
            "Epoch 36/50\n",
            "1/1 [==============================] - 0s 9ms/step - loss: 0.3637\n",
            "Epoch 37/50\n",
            "1/1 [==============================] - 0s 10ms/step - loss: 0.3610\n",
            "Epoch 38/50\n",
            "1/1 [==============================] - 0s 20ms/step - loss: 0.3584\n",
            "Epoch 39/50\n",
            "1/1 [==============================] - 0s 7ms/step - loss: 0.3558\n",
            "Epoch 40/50\n",
            "1/1 [==============================] - 0s 16ms/step - loss: 0.3532\n",
            "Epoch 41/50\n",
            "1/1 [==============================] - 0s 9ms/step - loss: 0.3506\n",
            "Epoch 42/50\n",
            "1/1 [==============================] - 0s 24ms/step - loss: 0.3481\n",
            "Epoch 43/50\n",
            "1/1 [==============================] - 0s 11ms/step - loss: 0.3455\n",
            "Epoch 44/50\n",
            "1/1 [==============================] - 0s 12ms/step - loss: 0.3430\n",
            "Epoch 45/50\n",
            "1/1 [==============================] - 0s 30ms/step - loss: 0.3405\n",
            "Epoch 46/50\n",
            "1/1 [==============================] - 0s 22ms/step - loss: 0.3380\n",
            "Epoch 47/50\n",
            "1/1 [==============================] - 0s 7ms/step - loss: 0.3356\n",
            "Epoch 48/50\n",
            "1/1 [==============================] - 0s 7ms/step - loss: 0.3331\n",
            "Epoch 49/50\n",
            "1/1 [==============================] - 0s 14ms/step - loss: 0.3307\n",
            "Epoch 50/50\n",
            "1/1 [==============================] - 0s 9ms/step - loss: 0.3283\n"
          ]
        },
        {
          "output_type": "execute_result",
          "data": {
            "text/plain": [
              "<keras.src.callbacks.History at 0x7fd18a3aae30>"
            ]
          },
          "metadata": {},
          "execution_count": 3
        }
      ]
    },
    {
      "cell_type": "code",
      "source": [
        "print(model_1_layer.predict([10.0]))"
      ],
      "metadata": {
        "colab": {
          "base_uri": "https://localhost:8080/"
        },
        "id": "RGdR_xvVpgyV",
        "outputId": "4ac27d3f-251a-435b-dc84-a98cfd403050"
      },
      "execution_count": 4,
      "outputs": [
        {
          "output_type": "stream",
          "name": "stdout",
          "text": [
            "1/1 [==============================] - 0s 472ms/step\n",
            "[[23.738413]]\n"
          ]
        }
      ]
    },
    {
      "cell_type": "code",
      "source": [
        "model_3_layers = tf.keras.Sequential([\n",
        "    keras.layers.Dense(units=1, input_shape=[1]),\n",
        "    keras.layers.Dense(units=8),\n",
        "    keras.layers.Dense(units=1)\n",
        "])\n",
        "model_3_layers.compile(optimizer='sgd', loss='mean_squared_error')\n",
        "model_3_layers.fit(xs, ys, epochs=50)"
      ],
      "metadata": {
        "colab": {
          "base_uri": "https://localhost:8080/"
        },
        "id": "iRBHTeVOpp7-",
        "outputId": "2e266a25-b94f-4295-c185-7d4d78e444f0"
      },
      "execution_count": 5,
      "outputs": [
        {
          "output_type": "stream",
          "name": "stdout",
          "text": [
            "Epoch 1/50\n",
            "1/1 [==============================] - 2s 2s/step - loss: 31.1816\n",
            "Epoch 2/50\n",
            "1/1 [==============================] - 0s 15ms/step - loss: 231.9057\n",
            "Epoch 3/50\n",
            "1/1 [==============================] - 0s 24ms/step - loss: 2442.9670\n",
            "Epoch 4/50\n",
            "1/1 [==============================] - 0s 16ms/step - loss: 240712240.0000\n",
            "Epoch 5/50\n",
            "1/1 [==============================] - 0s 32ms/step - loss: 13295857307457084049541263096020992.0000\n",
            "Epoch 6/50\n",
            "1/1 [==============================] - 0s 25ms/step - loss: nan\n",
            "Epoch 7/50\n",
            "1/1 [==============================] - 0s 11ms/step - loss: nan\n",
            "Epoch 8/50\n",
            "1/1 [==============================] - 0s 13ms/step - loss: nan\n",
            "Epoch 9/50\n",
            "1/1 [==============================] - 0s 10ms/step - loss: nan\n",
            "Epoch 10/50\n",
            "1/1 [==============================] - 0s 31ms/step - loss: nan\n",
            "Epoch 11/50\n",
            "1/1 [==============================] - 0s 19ms/step - loss: nan\n",
            "Epoch 12/50\n",
            "1/1 [==============================] - 0s 12ms/step - loss: nan\n",
            "Epoch 13/50\n",
            "1/1 [==============================] - 0s 13ms/step - loss: nan\n",
            "Epoch 14/50\n",
            "1/1 [==============================] - 0s 9ms/step - loss: nan\n",
            "Epoch 15/50\n",
            "1/1 [==============================] - 0s 12ms/step - loss: nan\n",
            "Epoch 16/50\n",
            "1/1 [==============================] - 0s 14ms/step - loss: nan\n",
            "Epoch 17/50\n",
            "1/1 [==============================] - 0s 14ms/step - loss: nan\n",
            "Epoch 18/50\n",
            "1/1 [==============================] - 0s 15ms/step - loss: nan\n",
            "Epoch 19/50\n",
            "1/1 [==============================] - 0s 16ms/step - loss: nan\n",
            "Epoch 20/50\n",
            "1/1 [==============================] - 0s 15ms/step - loss: nan\n",
            "Epoch 21/50\n",
            "1/1 [==============================] - 0s 14ms/step - loss: nan\n",
            "Epoch 22/50\n",
            "1/1 [==============================] - 0s 14ms/step - loss: nan\n",
            "Epoch 23/50\n",
            "1/1 [==============================] - 0s 15ms/step - loss: nan\n",
            "Epoch 24/50\n",
            "1/1 [==============================] - 0s 11ms/step - loss: nan\n",
            "Epoch 25/50\n",
            "1/1 [==============================] - 0s 30ms/step - loss: nan\n",
            "Epoch 26/50\n",
            "1/1 [==============================] - 0s 21ms/step - loss: nan\n",
            "Epoch 27/50\n",
            "1/1 [==============================] - 0s 15ms/step - loss: nan\n",
            "Epoch 28/50\n",
            "1/1 [==============================] - 0s 10ms/step - loss: nan\n",
            "Epoch 29/50\n",
            "1/1 [==============================] - 0s 19ms/step - loss: nan\n",
            "Epoch 30/50\n",
            "1/1 [==============================] - 0s 11ms/step - loss: nan\n",
            "Epoch 31/50\n",
            "1/1 [==============================] - 0s 16ms/step - loss: nan\n",
            "Epoch 32/50\n",
            "1/1 [==============================] - 0s 23ms/step - loss: nan\n",
            "Epoch 33/50\n",
            "1/1 [==============================] - 0s 19ms/step - loss: nan\n",
            "Epoch 34/50\n",
            "1/1 [==============================] - 0s 14ms/step - loss: nan\n",
            "Epoch 35/50\n",
            "1/1 [==============================] - 0s 16ms/step - loss: nan\n",
            "Epoch 36/50\n",
            "1/1 [==============================] - 0s 16ms/step - loss: nan\n",
            "Epoch 37/50\n",
            "1/1 [==============================] - 0s 13ms/step - loss: nan\n",
            "Epoch 38/50\n",
            "1/1 [==============================] - 0s 18ms/step - loss: nan\n",
            "Epoch 39/50\n",
            "1/1 [==============================] - 0s 9ms/step - loss: nan\n",
            "Epoch 40/50\n",
            "1/1 [==============================] - 0s 15ms/step - loss: nan\n",
            "Epoch 41/50\n",
            "1/1 [==============================] - 0s 13ms/step - loss: nan\n",
            "Epoch 42/50\n",
            "1/1 [==============================] - 0s 12ms/step - loss: nan\n",
            "Epoch 43/50\n",
            "1/1 [==============================] - 0s 20ms/step - loss: nan\n",
            "Epoch 44/50\n",
            "1/1 [==============================] - 0s 21ms/step - loss: nan\n",
            "Epoch 45/50\n",
            "1/1 [==============================] - 0s 15ms/step - loss: nan\n",
            "Epoch 46/50\n",
            "1/1 [==============================] - 0s 18ms/step - loss: nan\n",
            "Epoch 47/50\n",
            "1/1 [==============================] - 0s 18ms/step - loss: nan\n",
            "Epoch 48/50\n",
            "1/1 [==============================] - 0s 13ms/step - loss: nan\n",
            "Epoch 49/50\n",
            "1/1 [==============================] - 0s 12ms/step - loss: nan\n",
            "Epoch 50/50\n",
            "1/1 [==============================] - 0s 13ms/step - loss: nan\n"
          ]
        },
        {
          "output_type": "execute_result",
          "data": {
            "text/plain": [
              "<keras.src.callbacks.History at 0x7fd1899f0040>"
            ]
          },
          "metadata": {},
          "execution_count": 5
        }
      ]
    },
    {
      "cell_type": "code",
      "source": [
        "print(model_3_layers.predict([10.0]))"
      ],
      "metadata": {
        "colab": {
          "base_uri": "https://localhost:8080/"
        },
        "id": "S9m4ZrfZpt6l",
        "outputId": "d3b74fc9-1672-4c56-f46d-00c43427f703"
      },
      "execution_count": 6,
      "outputs": [
        {
          "output_type": "stream",
          "name": "stdout",
          "text": [
            "1/1 [==============================] - 0s 384ms/step\n",
            "[[nan]]\n"
          ]
        }
      ]
    }
  ]
}